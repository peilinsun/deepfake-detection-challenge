{
  "nbformat": 4,
  "nbformat_minor": 0,
  "metadata": {
    "colab": {
      "name": "finetune_v2",
      "provenance": [],
      "collapsed_sections": [],
      "toc_visible": true,
      "machine_shape": "hm"
    },
    "kernelspec": {
      "name": "python3",
      "display_name": "Python 3"
    },
    "accelerator": "GPU",
    "widgets": {
      "application/vnd.jupyter.widget-state+json": {
        "55df0be3961249c596f32b97a813e9c3": {
          "model_module": "@jupyter-widgets/controls",
          "model_name": "HBoxModel",
          "state": {
            "_view_name": "HBoxView",
            "_dom_classes": [],
            "_model_name": "HBoxModel",
            "_view_module": "@jupyter-widgets/controls",
            "_model_module_version": "1.5.0",
            "_view_count": null,
            "_view_module_version": "1.5.0",
            "box_style": "",
            "layout": "IPY_MODEL_504ecfe9dabd42e4adb311b37b526afa",
            "_model_module": "@jupyter-widgets/controls",
            "children": [
              "IPY_MODEL_a363fe094a154bf99ee2f3ac17658786",
              "IPY_MODEL_bb3751b4925a4236a7462697ad1a8955"
            ]
          }
        },
        "504ecfe9dabd42e4adb311b37b526afa": {
          "model_module": "@jupyter-widgets/base",
          "model_name": "LayoutModel",
          "state": {
            "_view_name": "LayoutView",
            "grid_template_rows": null,
            "right": null,
            "justify_content": null,
            "_view_module": "@jupyter-widgets/base",
            "overflow": null,
            "_model_module_version": "1.2.0",
            "_view_count": null,
            "flex_flow": null,
            "width": null,
            "min_width": null,
            "border": null,
            "align_items": null,
            "bottom": null,
            "_model_module": "@jupyter-widgets/base",
            "top": null,
            "grid_column": null,
            "overflow_y": null,
            "overflow_x": null,
            "grid_auto_flow": null,
            "grid_area": null,
            "grid_template_columns": null,
            "flex": null,
            "_model_name": "LayoutModel",
            "justify_items": null,
            "grid_row": null,
            "max_height": null,
            "align_content": null,
            "visibility": null,
            "align_self": null,
            "height": null,
            "min_height": null,
            "padding": null,
            "grid_auto_rows": null,
            "grid_gap": null,
            "max_width": null,
            "order": null,
            "_view_module_version": "1.2.0",
            "grid_template_areas": null,
            "object_position": null,
            "object_fit": null,
            "grid_auto_columns": null,
            "margin": null,
            "display": null,
            "left": null
          }
        },
        "a363fe094a154bf99ee2f3ac17658786": {
          "model_module": "@jupyter-widgets/controls",
          "model_name": "IntProgressModel",
          "state": {
            "_view_name": "ProgressView",
            "style": "IPY_MODEL_5ddbb817e2f64569aa4a37d63ffc11a0",
            "_dom_classes": [],
            "description": "100%",
            "_model_name": "IntProgressModel",
            "bar_style": "success",
            "max": 553433881,
            "_view_module": "@jupyter-widgets/controls",
            "_model_module_version": "1.5.0",
            "value": 553433881,
            "_view_count": null,
            "_view_module_version": "1.5.0",
            "orientation": "horizontal",
            "min": 0,
            "description_tooltip": null,
            "_model_module": "@jupyter-widgets/controls",
            "layout": "IPY_MODEL_8275dadaa4aa43ea9b7ccccb947173c6"
          }
        },
        "bb3751b4925a4236a7462697ad1a8955": {
          "model_module": "@jupyter-widgets/controls",
          "model_name": "HTMLModel",
          "state": {
            "_view_name": "HTMLView",
            "style": "IPY_MODEL_81d0b3b7d25049e29877576ab0d7ed00",
            "_dom_classes": [],
            "description": "",
            "_model_name": "HTMLModel",
            "placeholder": "​",
            "_view_module": "@jupyter-widgets/controls",
            "_model_module_version": "1.5.0",
            "value": " 528M/528M [00:28&lt;00:00, 19.2MB/s]",
            "_view_count": null,
            "_view_module_version": "1.5.0",
            "description_tooltip": null,
            "_model_module": "@jupyter-widgets/controls",
            "layout": "IPY_MODEL_cc8910a0038349c9bec13f5d0ce1496a"
          }
        },
        "5ddbb817e2f64569aa4a37d63ffc11a0": {
          "model_module": "@jupyter-widgets/controls",
          "model_name": "ProgressStyleModel",
          "state": {
            "_view_name": "StyleView",
            "_model_name": "ProgressStyleModel",
            "description_width": "initial",
            "_view_module": "@jupyter-widgets/base",
            "_model_module_version": "1.5.0",
            "_view_count": null,
            "_view_module_version": "1.2.0",
            "bar_color": null,
            "_model_module": "@jupyter-widgets/controls"
          }
        },
        "8275dadaa4aa43ea9b7ccccb947173c6": {
          "model_module": "@jupyter-widgets/base",
          "model_name": "LayoutModel",
          "state": {
            "_view_name": "LayoutView",
            "grid_template_rows": null,
            "right": null,
            "justify_content": null,
            "_view_module": "@jupyter-widgets/base",
            "overflow": null,
            "_model_module_version": "1.2.0",
            "_view_count": null,
            "flex_flow": null,
            "width": null,
            "min_width": null,
            "border": null,
            "align_items": null,
            "bottom": null,
            "_model_module": "@jupyter-widgets/base",
            "top": null,
            "grid_column": null,
            "overflow_y": null,
            "overflow_x": null,
            "grid_auto_flow": null,
            "grid_area": null,
            "grid_template_columns": null,
            "flex": null,
            "_model_name": "LayoutModel",
            "justify_items": null,
            "grid_row": null,
            "max_height": null,
            "align_content": null,
            "visibility": null,
            "align_self": null,
            "height": null,
            "min_height": null,
            "padding": null,
            "grid_auto_rows": null,
            "grid_gap": null,
            "max_width": null,
            "order": null,
            "_view_module_version": "1.2.0",
            "grid_template_areas": null,
            "object_position": null,
            "object_fit": null,
            "grid_auto_columns": null,
            "margin": null,
            "display": null,
            "left": null
          }
        },
        "81d0b3b7d25049e29877576ab0d7ed00": {
          "model_module": "@jupyter-widgets/controls",
          "model_name": "DescriptionStyleModel",
          "state": {
            "_view_name": "StyleView",
            "_model_name": "DescriptionStyleModel",
            "description_width": "",
            "_view_module": "@jupyter-widgets/base",
            "_model_module_version": "1.5.0",
            "_view_count": null,
            "_view_module_version": "1.2.0",
            "_model_module": "@jupyter-widgets/controls"
          }
        },
        "cc8910a0038349c9bec13f5d0ce1496a": {
          "model_module": "@jupyter-widgets/base",
          "model_name": "LayoutModel",
          "state": {
            "_view_name": "LayoutView",
            "grid_template_rows": null,
            "right": null,
            "justify_content": null,
            "_view_module": "@jupyter-widgets/base",
            "overflow": null,
            "_model_module_version": "1.2.0",
            "_view_count": null,
            "flex_flow": null,
            "width": null,
            "min_width": null,
            "border": null,
            "align_items": null,
            "bottom": null,
            "_model_module": "@jupyter-widgets/base",
            "top": null,
            "grid_column": null,
            "overflow_y": null,
            "overflow_x": null,
            "grid_auto_flow": null,
            "grid_area": null,
            "grid_template_columns": null,
            "flex": null,
            "_model_name": "LayoutModel",
            "justify_items": null,
            "grid_row": null,
            "max_height": null,
            "align_content": null,
            "visibility": null,
            "align_self": null,
            "height": null,
            "min_height": null,
            "padding": null,
            "grid_auto_rows": null,
            "grid_gap": null,
            "max_width": null,
            "order": null,
            "_view_module_version": "1.2.0",
            "grid_template_areas": null,
            "object_position": null,
            "object_fit": null,
            "grid_auto_columns": null,
            "margin": null,
            "display": null,
            "left": null
          }
        }
      }
    }
  },
  "cells": [
    {
      "cell_type": "code",
      "metadata": {
        "id": "IIiRaGeUG5Qd",
        "colab_type": "code",
        "outputId": "6489e166-47a7-486b-d8f0-54cdc2061572",
        "colab": {
          "base_uri": "https://localhost:8080/",
          "height": 35
        }
      },
      "source": [
        "from google.colab import drive\n",
        "drive.mount('/content/drive')"
      ],
      "execution_count": 0,
      "outputs": [
        {
          "output_type": "stream",
          "text": [
            "Drive already mounted at /content/drive; to attempt to forcibly remount, call drive.mount(\"/content/drive\", force_remount=True).\n"
          ],
          "name": "stdout"
        }
      ]
    },
    {
      "cell_type": "code",
      "metadata": {
        "id": "sfykvdo3gVm3",
        "colab_type": "code",
        "colab": {}
      },
      "source": [
        "import os\n",
        "import glob\n",
        "import sys\n",
        "sys.path.append('/content/drive/My Drive/kaggle/cnn_detection/networks')"
      ],
      "execution_count": 0,
      "outputs": []
    },
    {
      "cell_type": "code",
      "metadata": {
        "id": "kPKtvxdnG81Y",
        "colab_type": "code",
        "colab": {}
      },
      "source": [
        "import torch\n",
        "import torch.nn as nn\n",
        "import torch.optim as optim\n",
        "import torch.nn.functional as F\n",
        "import argparse\n",
        "import random\n",
        "import tqdm\n",
        "import numpy as np\n",
        "import torchvision.transforms as transforms\n",
        "import pandas as pd\n",
        "from PIL import Image\n",
        "from resnet import resnet50\n",
        "from torch.utils.data import Dataset, DataLoader\n",
        "import torchvision.models as models\n",
        "import matplotlib.pyplot as plt"
      ],
      "execution_count": 0,
      "outputs": []
    },
    {
      "cell_type": "markdown",
      "metadata": {
        "id": "b_SDDLDMGqD2",
        "colab_type": "text"
      },
      "source": [
        "## Hyper-parameters"
      ]
    },
    {
      "cell_type": "code",
      "metadata": {
        "id": "-v8AiJ_0nEwh",
        "colab_type": "code",
        "colab": {}
      },
      "source": [
        "image_size = 224 #299\n",
        "batch_size = 64\n",
        "epoch = 15\n",
        "n_frames = 10\n",
        "\n",
        "# training batch02\n",
        "data_folder = '/content/drive/My Drive/kaggle/batch03'\n",
        "metadata_dir = glob.glob(os.path.join(data_folder, 'dfdc_train_part_47', '*.json'))[0]\n",
        "split = 0.8\n",
        "model_path = '/content/drive/My Drive/kaggle/cnn_detection'\n",
        "\n",
        "# valset from batch03\n",
        "data_folder_val = '/content/drive/My Drive/kaggle/batch02'\n",
        "metadata_dir_val = glob.glob(os.path.join(data_folder_val, 'dfdc_train_part_48', '*.json'))[0]"
      ],
      "execution_count": 0,
      "outputs": []
    },
    {
      "cell_type": "code",
      "metadata": {
        "id": "HOD26V-W1vaZ",
        "colab_type": "code",
        "outputId": "74ac7940-5643-40cd-cc62-a9f5edfdf756",
        "colab": {
          "base_uri": "https://localhost:8080/",
          "height": 35
        }
      },
      "source": [
        "use_cuda = torch.cuda.is_available()\n",
        "device = torch.device('cuda' if use_cuda else \"cpu\")\n",
        "print(device)"
      ],
      "execution_count": 0,
      "outputs": [
        {
          "output_type": "stream",
          "text": [
            "cuda\n"
          ],
          "name": "stdout"
        }
      ]
    },
    {
      "cell_type": "markdown",
      "metadata": {
        "id": "0ewRGyK2Y31B",
        "colab_type": "text"
      },
      "source": [
        "## Prepare Data"
      ]
    },
    {
      "cell_type": "markdown",
      "metadata": {
        "id": "yX09ZbLObmSB",
        "colab_type": "text"
      },
      "source": [
        "Load data from npy files"
      ]
    },
    {
      "cell_type": "code",
      "metadata": {
        "id": "RsfXAkdM-HH5",
        "colab_type": "code",
        "colab": {}
      },
      "source": [
        "class VideoDatasetArray(Dataset):\n",
        "    def __init__(self, root, n_frames, transform=None, train=True):\n",
        "        \"\"\" Intialize the dataset from npy files\n",
        "        \n",
        "        Args:\n",
        "            - root: root directory of the data\n",
        "            - n_frame: the number of frames for each video\n",
        "            - tranform: a custom tranform function\n",
        "            - train: dataset for training\n",
        "        \"\"\"\n",
        "        self.root = root\n",
        "        self.transform = transform['train' if train else 'val']\n",
        "        face_dir = os.path.join(self.root)\n",
        "        if train:\n",
        "            face_file = glob.glob(os.path.join(face_dir, '*.npy'))\n",
        "        else:\n",
        "            face_dir = os.path.join(self.root, 'face10train')\n",
        "            face_file = [glob.glob(os.path.join(face_dir, '*.npy'))[1]]\n",
        "\n",
        "        # Preload dataset to memory\n",
        "        self.labels = []\n",
        "        self.images = []\n",
        "        print(\"\\nPreload dataset to memory...\\n\")\n",
        "        for face_batch in tqdm.tqdm(face_file, ncols=80):\n",
        "            data = np.load(face_batch, allow_pickle=True)\n",
        "            labels = data.item()['y']\n",
        "            for k in range(len(labels)):\n",
        "                target = 1 if labels[k] == \"FAKE\" else 0\n",
        "                collections = []\n",
        "                for i in range(10):\n",
        "                    image = data.item()['x' + str(i)][k].transpose()\n",
        "                    collections.append(image.copy())\n",
        "                self.images.append(collections)\n",
        "                self.labels.append(target)\n",
        "            # del data\n",
        "            \n",
        "        self.len = len(self.labels)\n",
        "    \n",
        "    def __getitem__(self, index):\n",
        "        images = self.images[index]\n",
        "        label = self.labels[index]\n",
        "        X = []\n",
        "        if self.transform is not None:\n",
        "            for image in images:\n",
        "                # image = torch.FloatTensor(image)\n",
        "                x = Image.fromarray(image.astype(np.uint8).transpose(1,2,0))\n",
        "                X.append(self.transform(x))\n",
        "        return X, label\n",
        "    \n",
        "    def __len__(self):\n",
        "        return self.len"
      ],
      "execution_count": 0,
      "outputs": []
    },
    {
      "cell_type": "code",
      "metadata": {
        "id": "25-eHyKMEUm6",
        "colab_type": "code",
        "colab": {}
      },
      "source": [
        "transform = {\n",
        "        'train': transforms.Compose([\n",
        "                    # transforms.ToPILImage(),\n",
        "                    transforms.Resize(image_size),\n",
        "                    transforms.RandomHorizontalFlip(),\n",
        "                    transforms.ColorJitter(hue=0.5),\n",
        "                    # transforms.RandomRotation(20, resample=Image.BILINEAR),\n",
        "                    transforms.ToTensor(),\n",
        "                    transforms.Normalize(mean=[0.485, 0.456, 0.406], std=[0.229, 0.224, 0.225]),\n",
        "                ]), \n",
        "        'val': transforms.Compose([\n",
        "                    transforms.Resize(image_size),\n",
        "                    transforms.ToTensor(),\n",
        "                    transforms.Normalize(mean=[0.485, 0.456, 0.406], std=[0.229, 0.224, 0.225]),\n",
        "                ])\n",
        "        }"
      ],
      "execution_count": 0,
      "outputs": []
    },
    {
      "cell_type": "code",
      "metadata": {
        "id": "tIy7e7BaNED8",
        "colab_type": "code",
        "outputId": "b4a5ab99-5ab1-40d8-a90d-361129375a60",
        "colab": {
          "base_uri": "https://localhost:8080/",
          "height": 197
        }
      },
      "source": [
        "print('----- Load Training Set -------')\n",
        "trainset = VideoDatasetArray(\n",
        "    root= data_folder, \n",
        "    n_frames = n_frames,\n",
        "    transform=transform, train=True\n",
        ")\n",
        "trainset_loader = DataLoader(trainset, batch_size=batch_size, shuffle=True, num_workers=2)\n",
        "\n",
        "print('----- Load Val Set-------')\n",
        "valset = VideoDatasetArray(\n",
        "    root= data_folder_val, \n",
        "    n_frames = n_frames,\n",
        "    transform=transform, train=False\n",
        ")\n",
        "valset_loader = DataLoader(valset, batch_size=batch_size, shuffle=True, num_workers=2)"
      ],
      "execution_count": 0,
      "outputs": [
        {
          "output_type": "stream",
          "text": [
            "\r  0%|                                                    | 0/15 [00:00<?, ?it/s]"
          ],
          "name": "stderr"
        },
        {
          "output_type": "stream",
          "text": [
            "----- Load Training Set -------\n",
            "\n",
            "Preload dataset to memory...\n",
            "\n"
          ],
          "name": "stdout"
        },
        {
          "output_type": "stream",
          "text": [
            "100%|███████████████████████████████████████████| 15/15 [04:27<00:00, 17.86s/it]\n",
            "  0%|                                                     | 0/1 [00:00<?, ?it/s]"
          ],
          "name": "stderr"
        },
        {
          "output_type": "stream",
          "text": [
            "----- Load Val Set-------\n",
            "\n",
            "Preload dataset to memory...\n",
            "\n"
          ],
          "name": "stdout"
        },
        {
          "output_type": "stream",
          "text": [
            "100%|█████████████████████████████████████████████| 1/1 [00:19<00:00, 19.00s/it]\n"
          ],
          "name": "stderr"
        }
      ]
    },
    {
      "cell_type": "code",
      "metadata": {
        "id": "Sju5ZNmEGG0G",
        "colab_type": "code",
        "outputId": "1d01f394-dfde-4925-fb2b-dde20e4df2dc",
        "colab": {
          "base_uri": "https://localhost:8080/",
          "height": 53
        }
      },
      "source": [
        "print('trainset:', len(trainset))\n",
        "print('valset:', len(valset))"
      ],
      "execution_count": 0,
      "outputs": [
        {
          "output_type": "stream",
          "text": [
            "trainset: 3836\n",
            "valset: 261\n"
          ],
          "name": "stdout"
        }
      ]
    },
    {
      "cell_type": "markdown",
      "metadata": {
        "id": "ApSNZi3tIUCG",
        "colab_type": "text"
      },
      "source": [
        "## Utilities for Training"
      ]
    },
    {
      "cell_type": "code",
      "metadata": {
        "id": "gouhxg0HIfPj",
        "colab_type": "code",
        "colab": {}
      },
      "source": [
        "def freeze_until(net, param_name):\n",
        "    found_name = False\n",
        "    for name, params in net.named_parameters():\n",
        "        if name == param_name:\n",
        "            found_name = True\n",
        "        params.requires_grad = found_name\n",
        "    \n",
        "    fine_tuned = [k for k,v in net.named_parameters() if v.requires_grad]\n",
        "    print('Layer to fine-tune:', fine_tuned)"
      ],
      "execution_count": 0,
      "outputs": []
    },
    {
      "cell_type": "code",
      "metadata": {
        "id": "6Ss_PDXuIqXv",
        "colab_type": "code",
        "colab": {}
      },
      "source": [
        "class MyEnsemble(nn.Module):\n",
        "    '''\n",
        "    Ensemble all results from different frames and train the last layer as a classifier.\n",
        "    '''\n",
        "    def __init__(self, pretrained, n_frames):\n",
        "        super(MyEnsemble, self).__init__()\n",
        "        self.pretrained = pretrained\n",
        "        self.classifier = nn.Linear(n_frames, 1)\n",
        "        self.sigmoid = nn.Sigmoid()\n",
        "        # self.aux = aux\n",
        "\n",
        "    def forward(self, images):\n",
        "        X = []\n",
        "        AUX = []\n",
        "        for x in images:\n",
        "            x = self.pretrained(x)\n",
        "            if isinstance(x, tuple):\n",
        "                X.append(x[0])\n",
        "                AUX.append(x[1])\n",
        "            else:\n",
        "                X.append(x)\n",
        "        x = torch.cat(X, dim=1)\n",
        "        x = self.sigmoid(self.classifier(x))\n",
        "        if len(AUX) > 0:\n",
        "            aux = torch.cat(AUX, dim=1) \n",
        "            aux = self.sigmoid(self.classifier(aux))\n",
        "            return x, aux\n",
        "        return x   "
      ],
      "execution_count": 0,
      "outputs": []
    },
    {
      "cell_type": "markdown",
      "metadata": {
        "id": "lpab1Clb7GeI",
        "colab_type": "text"
      },
      "source": [
        "train() and eval() by OOP"
      ]
    },
    {
      "cell_type": "code",
      "metadata": {
        "id": "IQkAVs9Vulat",
        "colab_type": "code",
        "colab": {}
      },
      "source": [
        "class FineTune():\n",
        "    def __init__(self, model, model_name, epoch, optimizer, filename, log_interval=10):\n",
        "        self.model = model\n",
        "        self.model_name = model_name\n",
        "        self.epoch = epoch\n",
        "        self.optimizer = optimizer\n",
        "        self.log_interval = log_interval\n",
        "\n",
        "        self.train_loss = []\n",
        "        self.train_accuracy = []\n",
        "        self.val_loss = []\n",
        "        self.val_accuracy = []\n",
        "        self.output_folder = '/content/drive/My Drive/kaggle/output'\n",
        "        self.filename = filename\n",
        "\n",
        "    def train(self):  # set training mode\n",
        "        loss_fn = nn.BCELoss()\n",
        "        for ep in range(self.epoch):\n",
        "            self.model.train()\n",
        "            iteration = 0\n",
        "            for batch_idx, (data, target) in enumerate(trainset_loader):\n",
        "                data = [_data.to(device) for _data in data] \n",
        "                target = target.to(device)\n",
        "                self.optimizer.zero_grad()\n",
        "\n",
        "                if self.model_name == 'inception':\n",
        "                    output, aux_output = self.model(data)\n",
        "                    loss1 = loss_fn(output.squeeze(dim=1), target.type_as(output))\n",
        "                    loss2 = loss_fn(aux_output.squeeze(dim=1), target.type_as(aux_output))\n",
        "                    loss = loss1 + 0.4*loss2\n",
        "                else:\n",
        "                    output = self.model(data)\n",
        "                    loss = loss_fn(output.squeeze(dim=1), target.type_as(output))\n",
        "\n",
        "                loss.backward()\n",
        "                self.optimizer.step()\n",
        "                if iteration % self.log_interval == 0:\n",
        "                    print('Train Epoch: {} [{}/{} ({:.0f}%)]\\tLoss: {:.6f}'.format(\n",
        "                        ep, batch_idx * batch_size, len(trainset_loader.dataset),\n",
        "                        100. * (batch_idx+1) / len(trainset_loader), loss.item()))\n",
        "                iteration += 1\n",
        "\n",
        "            # Evaluation for both the training set and validation set\n",
        "            self.eval(False)\n",
        "            self.eval(True)\n",
        "\n",
        "            history = [self.train_loss, self.train_accuracy, self.val_loss, self.val_accuracy]\n",
        "            np.save(os.path.join(self.output_folder, self.filename), history)\n",
        "\n",
        "        # Save loss and accuracy\n",
        "        output_file = os.path.join(self.output_folder, self.filename+'.txt')\n",
        "\n",
        "        with open(output_file, 'a') as f:\n",
        "            f.write('train_loss\\n')\n",
        "            for item in self.train_loss:\n",
        "                f.write('%s\\n' % item)\n",
        "            f.write('train_accuracy\\n')\n",
        "            for item in self.train_accuracy:\n",
        "                f.write('%s\\n' % item)\n",
        "            f.write('val_loss\\n')\n",
        "            for item in self.val_loss:\n",
        "                f.write('%s\\n' % item)\n",
        "            f.write('val_accuracy\\n')\n",
        "            for item in self.val_accuracy:\n",
        "                f.write('%s\\n' % item)\n",
        "\n",
        "            \n",
        "\n",
        "\n",
        "    def eval(self, is_val=True):\n",
        "        loss_fn = nn.BCELoss(reduction=\"sum\")\n",
        "        self.model.eval()  # set evaluation mode\n",
        "        loss = 0\n",
        "        correct = 0\n",
        "        TP = 0\n",
        "        TN = 0\n",
        "        FP = 0\n",
        "        FN = 0\n",
        "        data_loader = valset_loader if is_val else trainset_loader\n",
        "        with torch.no_grad():  # set all requires_grad flags to False\n",
        "            for data, target in data_loader:\n",
        "                data = [_data.to(device) for _data in data] \n",
        "                target = target.to(device)\n",
        "                output = self.model(data)\n",
        "                loss += loss_fn(output.squeeze(dim=1), target.type_as(output)).item()\n",
        "                pred = (output > 0.5).int()\n",
        "                correct += pred.eq(target.view_as(pred)).sum().item()\n",
        "\n",
        "                if is_val:\n",
        "                    # for calculating precision and recall\n",
        "                    TP += (pred * target.view_as(pred)).sum().item()\n",
        "                    TN += ((1 - pred) * (1 - target.view_as(pred))).sum().item()\n",
        "                    FP += (pred * (1 - target.view_as(pred))).sum().item()\n",
        "                    FN += ((1 - pred) * target.view_as(pred)).sum().item()\n",
        "\n",
        "        loss /= len(data_loader.dataset)\n",
        "        accuracy = 100. * correct / len(data_loader.dataset)\n",
        "\n",
        "        if is_val:\n",
        "            # save validation loss and accuracy\n",
        "            self.val_loss.append(loss)\n",
        "            self.val_accuracy.append(accuracy)\n",
        "\n",
        "            # calculate precision, recall, and f1\n",
        "            precision = TP / (TP + FP)\n",
        "            recall = TP / (TP + FN)\n",
        "            f1 = 2 * precision * recall / (precision + recall)\n",
        "            print('Val set: Average loss: {:.4f}, Accuracy: {}/{} ({:.0f}%), Precision: {:.4f}, Recall: {:.4f}, F1: {:.4f}'.format(\n",
        "                loss, correct, len(data_loader.dataset),\n",
        "                accuracy, precision, recall, f1))\n",
        "        else:\n",
        "            self.train_loss.append(loss)\n",
        "            self.train_accuracy.append(accuracy)\n",
        "            print('Train set: Average loss: {:.4f}, Accuracy: {}/{} ({:.0f}%)'.format(\n",
        "                loss, correct, len(data_loader.dataset), accuracy))\n",
        "    \n",
        "    def plot_loss(self):\n",
        "        plt.plot(self.train_loss, label='Training loss')\n",
        "        plt.plot(self.val_loss, label='Validation loss')\n",
        "        plt.legend(frameon=False)\n",
        "        plt.show()\n",
        "\n",
        "    def plot_accuracy(self):\n",
        "        plt.plot(self.train_accuracy, label='Training accuracy')\n",
        "        plt.plot(self.val_accuracy, label='Validation accuracy')\n",
        "        plt.legend(frameon=False)\n",
        "        plt.show()"
      ],
      "execution_count": 0,
      "outputs": []
    },
    {
      "cell_type": "markdown",
      "metadata": {
        "id": "T_prCPeAezBT",
        "colab_type": "text"
      },
      "source": [
        "## VGG Model"
      ]
    },
    {
      "cell_type": "code",
      "metadata": {
        "id": "aadbW4dmgk3F",
        "colab_type": "code",
        "outputId": "4621c83d-dcf0-4e72-eeab-71563421f414",
        "colab": {
          "base_uri": "https://localhost:8080/",
          "height": 85,
          "referenced_widgets": [
            "55df0be3961249c596f32b97a813e9c3",
            "504ecfe9dabd42e4adb311b37b526afa",
            "a363fe094a154bf99ee2f3ac17658786",
            "bb3751b4925a4236a7462697ad1a8955",
            "5ddbb817e2f64569aa4a37d63ffc11a0",
            "8275dadaa4aa43ea9b7ccccb947173c6",
            "81d0b3b7d25049e29877576ab0d7ed00",
            "cc8910a0038349c9bec13f5d0ce1496a"
          ]
        }
      },
      "source": [
        "vgg16 = models.vgg16(pretrained=True)"
      ],
      "execution_count": 0,
      "outputs": [
        {
          "output_type": "stream",
          "text": [
            "Downloading: \"https://download.pytorch.org/models/vgg16-397923af.pth\" to /root/.cache/torch/checkpoints/vgg16-397923af.pth\n"
          ],
          "name": "stderr"
        },
        {
          "output_type": "display_data",
          "data": {
            "application/vnd.jupyter.widget-view+json": {
              "model_id": "55df0be3961249c596f32b97a813e9c3",
              "version_minor": 0,
              "version_major": 2
            },
            "text/plain": [
              "HBox(children=(IntProgress(value=0, max=553433881), HTML(value='')))"
            ]
          },
          "metadata": {
            "tags": []
          }
        },
        {
          "output_type": "stream",
          "text": [
            "\n"
          ],
          "name": "stdout"
        }
      ]
    },
    {
      "cell_type": "markdown",
      "metadata": {
        "id": "M7EacsauwmvC",
        "colab_type": "text"
      },
      "source": [
        "### Training 2-layer classifier baseline"
      ]
    },
    {
      "cell_type": "code",
      "metadata": {
        "id": "xTWCbg67b3uL",
        "colab_type": "code",
        "outputId": "0b49d243-cf3e-4f30-eec1-ad36d4827530",
        "colab": {
          "base_uri": "https://localhost:8080/",
          "height": 34
        }
      },
      "source": [
        "old_classifier = list(vgg16.classifier.children()) \n",
        "old_classifier = old_classifier[:3]\n",
        "print(old_classifier)\n",
        "old_classifier.append(nn.Linear(4096,1))\n",
        "vgg16.classifier = nn.Sequential(*old_classifier) "
      ],
      "execution_count": 0,
      "outputs": [
        {
          "output_type": "stream",
          "text": [
            "[Linear(in_features=25088, out_features=4096, bias=True), ReLU(inplace=True), Dropout(p=0.5, inplace=False)]\n"
          ],
          "name": "stdout"
        }
      ]
    },
    {
      "cell_type": "code",
      "metadata": {
        "id": "W_dyTMY6wnDb",
        "colab_type": "code",
        "outputId": "3e438ed4-3ca0-4a82-89af-06062e5f0394",
        "colab": {
          "base_uri": "https://localhost:8080/",
          "height": 34
        }
      },
      "source": [
        "freeze_until(vgg16, \"classifier.3.weight\")"
      ],
      "execution_count": 0,
      "outputs": [
        {
          "output_type": "stream",
          "text": [
            "Layer to fine-tune: ['classifier.3.weight', 'classifier.3.bias']\n"
          ],
          "name": "stdout"
        }
      ]
    },
    {
      "cell_type": "code",
      "metadata": {
        "id": "RQXVNjoYwnK6",
        "colab_type": "code",
        "outputId": "bb8a9300-eb70-46cc-8987-77b12aefc85e",
        "colab": {
          "base_uri": "https://localhost:8080/",
          "height": 1000
        }
      },
      "source": [
        "del model\n",
        "model = MyEnsemble(vgg16, n_frames=n_frames)\n",
        "model.cuda()\n",
        "\n",
        "optimizer = optim.SGD(model.parameters(), lr=0.001, momentum=0.9)\n",
        "finetune = FineTune(model, 'vgg16', epoch=15, optimizer=optimizer, filename='0414_vgg_baseline.txt', log_interval=10)\n",
        "finetune.train()"
      ],
      "execution_count": 0,
      "outputs": [
        {
          "output_type": "stream",
          "text": [
            "Train Epoch: 0 [0/3836 (2%)]\tLoss: 0.675229\n",
            "Train Epoch: 0 [640/3836 (18%)]\tLoss: 0.727425\n",
            "Train Epoch: 0 [1280/3836 (35%)]\tLoss: 0.670262\n",
            "Train Epoch: 0 [1920/3836 (52%)]\tLoss: 0.647956\n",
            "Train Epoch: 0 [2560/3836 (68%)]\tLoss: 0.613111\n",
            "Train Epoch: 0 [3200/3836 (85%)]\tLoss: 0.641076\n",
            "Train set: Average loss: 0.6084, Accuracy: 2764/3836 (72%)\n",
            "Val set: Average loss: 0.6827, Accuracy: 147/261 (56%), Precision: 0.5764, Recall: 0.8069, F1: 0.6724\n",
            "Train Epoch: 1 [0/3836 (2%)]\tLoss: 0.583244\n",
            "Train Epoch: 1 [640/3836 (18%)]\tLoss: 0.610238\n",
            "Train Epoch: 1 [1280/3836 (35%)]\tLoss: 0.586911\n",
            "Train Epoch: 1 [1920/3836 (52%)]\tLoss: 0.544316\n",
            "Train Epoch: 1 [2560/3836 (68%)]\tLoss: 0.580717\n",
            "Train Epoch: 1 [3200/3836 (85%)]\tLoss: 0.593686\n",
            "Train set: Average loss: 0.5192, Accuracy: 2925/3836 (76%)\n",
            "Val set: Average loss: 0.7305, Accuracy: 157/261 (60%), Precision: 0.6228, Recall: 0.7172, F1: 0.6667\n",
            "Train Epoch: 2 [0/3836 (2%)]\tLoss: 0.566149\n",
            "Train Epoch: 2 [640/3836 (18%)]\tLoss: 0.425863\n",
            "Train Epoch: 2 [1280/3836 (35%)]\tLoss: 0.630970\n",
            "Train Epoch: 2 [1920/3836 (52%)]\tLoss: 0.540130\n",
            "Train Epoch: 2 [2560/3836 (68%)]\tLoss: 0.479608\n",
            "Train Epoch: 2 [3200/3836 (85%)]\tLoss: 0.425285\n",
            "Train set: Average loss: 0.4831, Accuracy: 2945/3836 (77%)\n",
            "Val set: Average loss: 0.8383, Accuracy: 146/261 (56%), Precision: 0.6316, Recall: 0.4966, F1: 0.5560\n",
            "Train Epoch: 3 [0/3836 (2%)]\tLoss: 0.419335\n",
            "Train Epoch: 3 [640/3836 (18%)]\tLoss: 0.519875\n",
            "Train Epoch: 3 [1280/3836 (35%)]\tLoss: 0.431257\n",
            "Train Epoch: 3 [1920/3836 (52%)]\tLoss: 0.519407\n",
            "Train Epoch: 3 [2560/3836 (68%)]\tLoss: 0.426039\n",
            "Train Epoch: 3 [3200/3836 (85%)]\tLoss: 0.381643\n",
            "Train set: Average loss: 0.4201, Accuracy: 3091/3836 (81%)\n",
            "Val set: Average loss: 0.8998, Accuracy: 166/261 (64%), Precision: 0.6488, Recall: 0.7517, F1: 0.6965\n",
            "Train Epoch: 4 [0/3836 (2%)]\tLoss: 0.380261\n",
            "Train Epoch: 4 [640/3836 (18%)]\tLoss: 0.522036\n",
            "Train Epoch: 4 [1280/3836 (35%)]\tLoss: 0.372715\n",
            "Train Epoch: 4 [1920/3836 (52%)]\tLoss: 0.374457\n",
            "Train Epoch: 4 [2560/3836 (68%)]\tLoss: 0.366055\n",
            "Train Epoch: 4 [3200/3836 (85%)]\tLoss: 0.446158\n",
            "Train set: Average loss: 0.3613, Accuracy: 3247/3836 (85%)\n",
            "Val set: Average loss: 0.9659, Accuracy: 157/261 (60%), Precision: 0.6454, Recall: 0.6276, F1: 0.6364\n",
            "Train Epoch: 5 [0/3836 (2%)]\tLoss: 0.422543\n",
            "Train Epoch: 5 [640/3836 (18%)]\tLoss: 0.379413\n",
            "Train Epoch: 5 [1280/3836 (35%)]\tLoss: 0.420357\n",
            "Train Epoch: 5 [1920/3836 (52%)]\tLoss: 0.402103\n",
            "Train Epoch: 5 [2560/3836 (68%)]\tLoss: 0.375321\n",
            "Train Epoch: 5 [3200/3836 (85%)]\tLoss: 0.430266\n",
            "Train set: Average loss: 0.3575, Accuracy: 3224/3836 (84%)\n",
            "Val set: Average loss: 1.0336, Accuracy: 142/261 (54%), Precision: 0.6102, Recall: 0.4966, F1: 0.5475\n",
            "Train Epoch: 6 [0/3836 (2%)]\tLoss: 0.353204\n",
            "Train Epoch: 6 [640/3836 (18%)]\tLoss: 0.326665\n",
            "Train Epoch: 6 [1280/3836 (35%)]\tLoss: 0.447929\n",
            "Train Epoch: 6 [1920/3836 (52%)]\tLoss: 0.372185\n",
            "Train Epoch: 6 [2560/3836 (68%)]\tLoss: 0.395896\n",
            "Train Epoch: 6 [3200/3836 (85%)]\tLoss: 0.354114\n",
            "Train set: Average loss: 0.3575, Accuracy: 3212/3836 (84%)\n",
            "Val set: Average loss: 1.0891, Accuracy: 143/261 (55%), Precision: 0.6195, Recall: 0.4828, F1: 0.5426\n",
            "Train Epoch: 7 [0/3836 (2%)]\tLoss: 0.347253\n",
            "Train Epoch: 7 [640/3836 (18%)]\tLoss: 0.463526\n",
            "Train Epoch: 7 [1280/3836 (35%)]\tLoss: 0.294613\n",
            "Train Epoch: 7 [1920/3836 (52%)]\tLoss: 0.469469\n",
            "Train Epoch: 7 [2560/3836 (68%)]\tLoss: 0.398875\n",
            "Train Epoch: 7 [3200/3836 (85%)]\tLoss: 0.446305\n",
            "Train set: Average loss: 0.2874, Accuracy: 3393/3836 (88%)\n",
            "Val set: Average loss: 1.0499, Accuracy: 162/261 (62%), Precision: 0.6643, Recall: 0.6414, F1: 0.6526\n",
            "Train Epoch: 8 [0/3836 (2%)]\tLoss: 0.339456\n",
            "Train Epoch: 8 [640/3836 (18%)]\tLoss: 0.302182\n",
            "Train Epoch: 8 [1280/3836 (35%)]\tLoss: 0.277868\n",
            "Train Epoch: 8 [1920/3836 (52%)]\tLoss: 0.338394\n",
            "Train Epoch: 8 [2560/3836 (68%)]\tLoss: 0.318366\n",
            "Train Epoch: 8 [3200/3836 (85%)]\tLoss: 0.378316\n",
            "Train set: Average loss: 0.2773, Accuracy: 3396/3836 (89%)\n",
            "Val set: Average loss: 1.1332, Accuracy: 155/261 (59%), Precision: 0.6444, Recall: 0.6000, F1: 0.6214\n",
            "Train Epoch: 9 [0/3836 (2%)]\tLoss: 0.411658\n",
            "Train Epoch: 9 [640/3836 (18%)]\tLoss: 0.319839\n",
            "Train Epoch: 9 [1280/3836 (35%)]\tLoss: 0.224547\n",
            "Train Epoch: 9 [1920/3836 (52%)]\tLoss: 0.425583\n",
            "Train Epoch: 9 [2560/3836 (68%)]\tLoss: 0.261570\n",
            "Train Epoch: 9 [3200/3836 (85%)]\tLoss: 0.289253\n",
            "Train set: Average loss: 0.3103, Accuracy: 3313/3836 (86%)\n",
            "Val set: Average loss: 1.2403, Accuracy: 174/261 (67%), Precision: 0.6648, Recall: 0.8069, F1: 0.7290\n",
            "Train Epoch: 10 [0/3836 (2%)]\tLoss: 0.291267\n",
            "Train Epoch: 10 [640/3836 (18%)]\tLoss: 0.334285\n",
            "Train Epoch: 10 [1280/3836 (35%)]\tLoss: 0.337169\n",
            "Train Epoch: 10 [1920/3836 (52%)]\tLoss: 0.335133\n",
            "Train Epoch: 10 [2560/3836 (68%)]\tLoss: 0.284876\n",
            "Train Epoch: 10 [3200/3836 (85%)]\tLoss: 0.462555\n",
            "Train set: Average loss: 0.2475, Accuracy: 3418/3836 (89%)\n",
            "Val set: Average loss: 1.2425, Accuracy: 161/261 (62%), Precision: 0.6510, Recall: 0.6690, F1: 0.6599\n",
            "Train Epoch: 11 [0/3836 (2%)]\tLoss: 0.229528\n",
            "Train Epoch: 11 [640/3836 (18%)]\tLoss: 0.342377\n",
            "Train Epoch: 11 [1280/3836 (35%)]\tLoss: 0.338602\n",
            "Train Epoch: 11 [1920/3836 (52%)]\tLoss: 0.240102\n",
            "Train Epoch: 11 [2560/3836 (68%)]\tLoss: 0.355330\n",
            "Train Epoch: 11 [3200/3836 (85%)]\tLoss: 0.261755\n",
            "Train set: Average loss: 0.2803, Accuracy: 3389/3836 (88%)\n",
            "Val set: Average loss: 1.2799, Accuracy: 145/261 (56%), Precision: 0.6261, Recall: 0.4966, F1: 0.5538\n",
            "Train Epoch: 12 [0/3836 (2%)]\tLoss: 0.443233\n",
            "Train Epoch: 12 [640/3836 (18%)]\tLoss: 0.227415\n",
            "Train Epoch: 12 [1280/3836 (35%)]\tLoss: 0.309968\n",
            "Train Epoch: 12 [1920/3836 (52%)]\tLoss: 0.220760\n",
            "Train Epoch: 12 [2560/3836 (68%)]\tLoss: 0.327471\n",
            "Train Epoch: 12 [3200/3836 (85%)]\tLoss: 0.263481\n",
            "Train set: Average loss: 0.2206, Accuracy: 3509/3836 (91%)\n",
            "Val set: Average loss: 1.2035, Accuracy: 161/261 (62%), Precision: 0.6531, Recall: 0.6621, F1: 0.6575\n",
            "Train Epoch: 13 [0/3836 (2%)]\tLoss: 0.198194\n",
            "Train Epoch: 13 [640/3836 (18%)]\tLoss: 0.250847\n",
            "Train Epoch: 13 [1280/3836 (35%)]\tLoss: 0.314072\n",
            "Train Epoch: 13 [1920/3836 (52%)]\tLoss: 0.296908\n",
            "Train Epoch: 13 [2560/3836 (68%)]\tLoss: 0.301011\n",
            "Train Epoch: 13 [3200/3836 (85%)]\tLoss: 0.288870\n",
            "Train set: Average loss: 0.2217, Accuracy: 3514/3836 (92%)\n",
            "Val set: Average loss: 1.2903, Accuracy: 155/261 (59%), Precision: 0.6423, Recall: 0.6069, F1: 0.6241\n",
            "Train Epoch: 14 [0/3836 (2%)]\tLoss: 0.321314\n",
            "Train Epoch: 14 [640/3836 (18%)]\tLoss: 0.389273\n",
            "Train Epoch: 14 [1280/3836 (35%)]\tLoss: 0.390093\n",
            "Train Epoch: 14 [1920/3836 (52%)]\tLoss: 0.266503\n",
            "Train Epoch: 14 [2560/3836 (68%)]\tLoss: 0.301045\n",
            "Train Epoch: 14 [3200/3836 (85%)]\tLoss: 0.218868\n",
            "Train set: Average loss: 0.2164, Accuracy: 3527/3836 (92%)\n",
            "Val set: Average loss: 1.2904, Accuracy: 162/261 (62%), Precision: 0.6667, Recall: 0.6345, F1: 0.6502\n"
          ],
          "name": "stdout"
        }
      ]
    },
    {
      "cell_type": "markdown",
      "metadata": {
        "id": "CI3gUrXFd2F6",
        "colab_type": "text"
      },
      "source": [
        "### 2-layer classifier training from scratch"
      ]
    },
    {
      "cell_type": "code",
      "metadata": {
        "id": "PYCL6YDsd2lq",
        "colab_type": "code",
        "outputId": "b732bdf8-f2ae-4f5f-dded-4a165f510cec",
        "colab": {
          "base_uri": "https://localhost:8080/",
          "height": 35
        }
      },
      "source": [
        "old_classifier = list(vgg16.classifier.children()) \n",
        "old_classifier = old_classifier[:3]\n",
        "print(old_classifier)\n",
        "old_classifier.append(nn.Linear(4096,1))\n",
        "vgg16.classifier = nn.Sequential(*old_classifier) "
      ],
      "execution_count": 0,
      "outputs": [
        {
          "output_type": "stream",
          "text": [
            "[Linear(in_features=25088, out_features=4096, bias=True), ReLU(inplace=True), Dropout(p=0.5, inplace=False)]\n"
          ],
          "name": "stdout"
        }
      ]
    },
    {
      "cell_type": "code",
      "metadata": {
        "id": "lTSevVQ0wm9A",
        "colab_type": "code",
        "outputId": "b550ab3e-94d8-4c37-99bf-8b0f33c7eae7",
        "colab": {
          "base_uri": "https://localhost:8080/",
          "height": 557
        }
      },
      "source": [
        "for k, v in vgg16.named_parameters():\n",
        "    print(k)"
      ],
      "execution_count": 0,
      "outputs": [
        {
          "output_type": "stream",
          "text": [
            "features.0.weight\n",
            "features.0.bias\n",
            "features.2.weight\n",
            "features.2.bias\n",
            "features.5.weight\n",
            "features.5.bias\n",
            "features.7.weight\n",
            "features.7.bias\n",
            "features.10.weight\n",
            "features.10.bias\n",
            "features.12.weight\n",
            "features.12.bias\n",
            "features.14.weight\n",
            "features.14.bias\n",
            "features.17.weight\n",
            "features.17.bias\n",
            "features.19.weight\n",
            "features.19.bias\n",
            "features.21.weight\n",
            "features.21.bias\n",
            "features.24.weight\n",
            "features.24.bias\n",
            "features.26.weight\n",
            "features.26.bias\n",
            "features.28.weight\n",
            "features.28.bias\n",
            "classifier.0.weight\n",
            "classifier.0.bias\n",
            "classifier.3.weight\n",
            "classifier.3.bias\n"
          ],
          "name": "stdout"
        }
      ]
    },
    {
      "cell_type": "code",
      "metadata": {
        "id": "Bef-t0v_eRvI",
        "colab_type": "code",
        "outputId": "8d6594b0-08d8-4125-94b2-bd7e764c80c7",
        "colab": {
          "base_uri": "https://localhost:8080/",
          "height": 55
        }
      },
      "source": [
        "freeze_until(vgg16, \"features.17.weight\")"
      ],
      "execution_count": 0,
      "outputs": [
        {
          "output_type": "stream",
          "text": [
            "Layer to fine-tune: ['features.17.weight', 'features.17.bias', 'features.19.weight', 'features.19.bias', 'features.21.weight', 'features.21.bias', 'features.24.weight', 'features.24.bias', 'features.26.weight', 'features.26.bias', 'features.28.weight', 'features.28.bias', 'classifier.0.weight', 'classifier.0.bias', 'classifier.3.weight', 'classifier.3.bias']\n"
          ],
          "name": "stdout"
        }
      ]
    },
    {
      "cell_type": "code",
      "metadata": {
        "id": "f4PHn4WvfXFz",
        "colab_type": "code",
        "outputId": "76ce9e08-184c-41c2-a0da-bf83a4803a13",
        "colab": {
          "base_uri": "https://localhost:8080/",
          "height": 845
        }
      },
      "source": [
        "# del model\n",
        "model = MyEnsemble(vgg16, n_frames=n_frames)\n",
        "model.cuda()\n",
        "\n",
        "optimizer = optim.SGD(model.parameters(), lr=0.0001, momentum=0.9)\n",
        "finetune = FineTune(model, 'vgg16', epoch=40, optimizer=optimizer, filename='0417_vgg_scratch_0.0001.txt', log_interval=10)\n",
        "finetune.train()"
      ],
      "execution_count": 0,
      "outputs": [
        {
          "output_type": "stream",
          "text": [
            "Train Epoch: 0 [0/3836 (2%)]\tLoss: 0.744805\n",
            "Train Epoch: 0 [640/3836 (18%)]\tLoss: 0.638372\n",
            "Train Epoch: 0 [1280/3836 (35%)]\tLoss: 0.739950\n",
            "Train Epoch: 0 [1920/3836 (52%)]\tLoss: 0.698465\n",
            "Train Epoch: 0 [2560/3836 (68%)]\tLoss: 0.704324\n",
            "Train Epoch: 0 [3200/3836 (85%)]\tLoss: 0.683829\n",
            "Train set: Average loss: 0.6746, Accuracy: 2253/3836 (59%)\n",
            "Val set: Average loss: 0.6923, Accuracy: 137/261 (52%), Precision: 0.5459, Recall: 0.8621, F1: 0.6684\n",
            "Train Epoch: 1 [0/3836 (2%)]\tLoss: 0.704007\n",
            "Train Epoch: 1 [640/3836 (18%)]\tLoss: 0.679114\n",
            "Train Epoch: 1 [1280/3836 (35%)]\tLoss: 0.669567\n",
            "Train Epoch: 1 [1920/3836 (52%)]\tLoss: 0.683466\n",
            "Train Epoch: 1 [2560/3836 (68%)]\tLoss: 0.689079\n",
            "Train Epoch: 1 [3200/3836 (85%)]\tLoss: 0.621799\n",
            "Train set: Average loss: 0.6528, Accuracy: 2424/3836 (63%)\n",
            "Val set: Average loss: 0.6883, Accuracy: 139/261 (53%), Precision: 0.5481, Recall: 0.9034, F1: 0.6823\n",
            "Train Epoch: 2 [0/3836 (2%)]\tLoss: 0.689346\n",
            "Train Epoch: 2 [640/3836 (18%)]\tLoss: 0.687455\n",
            "Train Epoch: 2 [1280/3836 (35%)]\tLoss: 0.649511\n",
            "Train Epoch: 2 [1920/3836 (52%)]\tLoss: 0.689442\n",
            "Train Epoch: 2 [2560/3836 (68%)]\tLoss: 0.640422\n",
            "Train Epoch: 2 [3200/3836 (85%)]\tLoss: 0.637784\n",
            "Train set: Average loss: 0.6327, Accuracy: 2624/3836 (68%)\n",
            "Val set: Average loss: 0.6828, Accuracy: 155/261 (59%), Precision: 0.5915, Recall: 0.8690, F1: 0.7039\n",
            "Train Epoch: 3 [0/3836 (2%)]\tLoss: 0.635182\n",
            "Train Epoch: 3 [640/3836 (18%)]\tLoss: 0.620869\n",
            "Train Epoch: 3 [1280/3836 (35%)]\tLoss: 0.647352\n",
            "Train Epoch: 3 [1920/3836 (52%)]\tLoss: 0.602569\n",
            "Train Epoch: 3 [2560/3836 (68%)]\tLoss: 0.636826\n",
            "Train Epoch: 3 [3200/3836 (85%)]\tLoss: 0.641488\n",
            "Train set: Average loss: 0.6119, Accuracy: 2654/3836 (69%)\n",
            "Val set: Average loss: 0.6875, Accuracy: 151/261 (58%), Precision: 0.5799, Recall: 0.8759, F1: 0.6978\n",
            "Train Epoch: 4 [0/3836 (2%)]\tLoss: 0.613711\n",
            "Train Epoch: 4 [640/3836 (18%)]\tLoss: 0.555831\n",
            "Train Epoch: 4 [1280/3836 (35%)]\tLoss: 0.661492\n",
            "Train Epoch: 4 [1920/3836 (52%)]\tLoss: 0.545935\n",
            "Train Epoch: 4 [2560/3836 (68%)]\tLoss: 0.562040\n",
            "Train Epoch: 4 [3200/3836 (85%)]\tLoss: 0.584150\n",
            "Train set: Average loss: 0.5839, Accuracy: 2804/3836 (73%)\n",
            "Val set: Average loss: 0.6857, Accuracy: 160/261 (61%), Precision: 0.6078, Recall: 0.8552, F1: 0.7106\n",
            "Train Epoch: 5 [0/3836 (2%)]\tLoss: 0.564742\n",
            "Train Epoch: 5 [640/3836 (18%)]\tLoss: 0.585432\n",
            "Train Epoch: 5 [1280/3836 (35%)]\tLoss: 0.566225\n",
            "Train Epoch: 5 [1920/3836 (52%)]\tLoss: 0.598863\n",
            "Train Epoch: 5 [2560/3836 (68%)]\tLoss: 0.544365\n",
            "Train Epoch: 5 [3200/3836 (85%)]\tLoss: 0.512496\n"
          ],
          "name": "stdout"
        }
      ]
    },
    {
      "cell_type": "markdown",
      "metadata": {
        "id": "qViaC-lA9BAY",
        "colab_type": "text"
      },
      "source": [
        "### 2-layer classifier"
      ]
    },
    {
      "cell_type": "code",
      "metadata": {
        "id": "NWCPa2V3MQ-I",
        "colab_type": "code",
        "outputId": "6a3545a7-0880-4547-c108-dab0178caf3b",
        "colab": {
          "base_uri": "https://localhost:8080/",
          "height": 53
        }
      },
      "source": [
        "old_classifier = list(vgg16.classifier.children()) \n",
        "old_classifier = old_classifier[:3]\n",
        "print(old_classifier)\n",
        "old_classifier.append(nn.Linear(4096,1))\n",
        "vgg16.classifier = nn.Sequential(*old_classifier) \n",
        "\n",
        "freeze_until(vgg16, \"features.28.weight\")"
      ],
      "execution_count": 0,
      "outputs": [
        {
          "output_type": "stream",
          "text": [
            "[Linear(in_features=25088, out_features=4096, bias=True), ReLU(inplace=True), Dropout(p=0.5, inplace=False)]\n",
            "Layer to fine-tune: ['features.28.weight', 'features.28.bias', 'classifier.0.weight', 'classifier.0.bias', 'classifier.3.weight', 'classifier.3.bias']\n"
          ],
          "name": "stdout"
        }
      ]
    },
    {
      "cell_type": "code",
      "metadata": {
        "id": "cDvGhiT0Ln7W",
        "colab_type": "code",
        "outputId": "e2d51953-1afb-4e62-c293-50b521859a9d",
        "colab": {
          "base_uri": "https://localhost:8080/",
          "height": 1000
        }
      },
      "source": [
        "# del model\n",
        "model = MyEnsemble(vgg16, n_frames=n_frames)\n",
        "model.cuda()\n",
        "\n",
        "optimizer = optim.SGD(model.parameters(), lr=0.001, momentum=0.9)\n",
        "finetune = FineTune(model, 'vgg16', epoch=15, optimizer=optimizer, log_interval=10)\n",
        "finetune.train()"
      ],
      "execution_count": 0,
      "outputs": [
        {
          "output_type": "stream",
          "text": [
            "Train Epoch: 0 [0/3836 (2%)]\tLoss: 0.716189\n",
            "Train Epoch: 0 [640/3836 (18%)]\tLoss: 0.703533\n",
            "Train Epoch: 0 [1280/3836 (35%)]\tLoss: 0.675319\n",
            "Train Epoch: 0 [1920/3836 (52%)]\tLoss: 0.620834\n",
            "Train Epoch: 0 [2560/3836 (68%)]\tLoss: 0.648595\n",
            "Train Epoch: 0 [3200/3836 (85%)]\tLoss: 0.599282\n",
            "Train set: Average loss: 0.5902, Accuracy: 2778/3836 (72%)\n",
            "Val set: Average loss: 0.6574, Accuracy: 160/261 (61%), Precision: 0.6964, Recall: 0.5379, F1: 0.6070\n",
            "Train Epoch: 1 [0/3836 (2%)]\tLoss: 0.550774\n",
            "Train Epoch: 1 [640/3836 (18%)]\tLoss: 0.561930\n",
            "Train Epoch: 1 [1280/3836 (35%)]\tLoss: 0.555530\n",
            "Train Epoch: 1 [1920/3836 (52%)]\tLoss: 0.552830\n",
            "Train Epoch: 1 [2560/3836 (68%)]\tLoss: 0.477664\n",
            "Train Epoch: 1 [3200/3836 (85%)]\tLoss: 0.571319\n",
            "Train set: Average loss: 0.4314, Accuracy: 3096/3836 (81%)\n",
            "Val set: Average loss: 0.7260, Accuracy: 161/261 (62%), Precision: 0.6552, Recall: 0.6552, F1: 0.6552\n",
            "Train Epoch: 2 [0/3836 (2%)]\tLoss: 0.440473\n",
            "Train Epoch: 2 [640/3836 (18%)]\tLoss: 0.393352\n",
            "Train Epoch: 2 [1280/3836 (35%)]\tLoss: 0.447439\n",
            "Train Epoch: 2 [1920/3836 (52%)]\tLoss: 0.414702\n",
            "Train Epoch: 2 [2560/3836 (68%)]\tLoss: 0.476249\n",
            "Train Epoch: 2 [3200/3836 (85%)]\tLoss: 0.494643\n",
            "Train set: Average loss: 0.3494, Accuracy: 3280/3836 (86%)\n",
            "Val set: Average loss: 0.8457, Accuracy: 165/261 (63%), Precision: 0.6690, Recall: 0.6690, F1: 0.6690\n",
            "Train Epoch: 3 [0/3836 (2%)]\tLoss: 0.340891\n",
            "Train Epoch: 3 [640/3836 (18%)]\tLoss: 0.335486\n",
            "Train Epoch: 3 [1280/3836 (35%)]\tLoss: 0.308288\n",
            "Train Epoch: 3 [1920/3836 (52%)]\tLoss: 0.401694\n",
            "Train Epoch: 3 [2560/3836 (68%)]\tLoss: 0.289346\n",
            "Train Epoch: 3 [3200/3836 (85%)]\tLoss: 0.272037\n",
            "Train set: Average loss: 0.2394, Accuracy: 3476/3836 (91%)\n",
            "Val set: Average loss: 0.9853, Accuracy: 171/261 (66%), Precision: 0.6608, Recall: 0.7793, F1: 0.7152\n",
            "Train Epoch: 4 [0/3836 (2%)]\tLoss: 0.240951\n",
            "Train Epoch: 4 [640/3836 (18%)]\tLoss: 0.192788\n",
            "Train Epoch: 4 [1280/3836 (35%)]\tLoss: 0.283901\n",
            "Train Epoch: 4 [1920/3836 (52%)]\tLoss: 0.319348\n",
            "Train Epoch: 4 [2560/3836 (68%)]\tLoss: 0.232648\n",
            "Train Epoch: 4 [3200/3836 (85%)]\tLoss: 0.169423\n",
            "Train set: Average loss: 0.2746, Accuracy: 3344/3836 (87%)\n",
            "Val set: Average loss: 1.0531, Accuracy: 151/261 (58%), Precision: 0.6296, Recall: 0.5862, F1: 0.6071\n",
            "Train Epoch: 5 [0/3836 (2%)]\tLoss: 0.247037\n",
            "Train Epoch: 5 [640/3836 (18%)]\tLoss: 0.163231\n",
            "Train Epoch: 5 [1280/3836 (35%)]\tLoss: 0.155978\n",
            "Train Epoch: 5 [1920/3836 (52%)]\tLoss: 0.185834\n",
            "Train Epoch: 5 [2560/3836 (68%)]\tLoss: 0.222432\n",
            "Train Epoch: 5 [3200/3836 (85%)]\tLoss: 0.156739\n",
            "Train set: Average loss: 0.1722, Accuracy: 3547/3836 (92%)\n",
            "Val set: Average loss: 1.1407, Accuracy: 159/261 (61%), Precision: 0.6424, Recall: 0.6690, F1: 0.6554\n",
            "Train Epoch: 6 [0/3836 (2%)]\tLoss: 0.207972\n",
            "Train Epoch: 6 [640/3836 (18%)]\tLoss: 0.103949\n",
            "Train Epoch: 6 [1280/3836 (35%)]\tLoss: 0.166171\n",
            "Train Epoch: 6 [1920/3836 (52%)]\tLoss: 0.134414\n",
            "Train Epoch: 6 [2560/3836 (68%)]\tLoss: 0.208468\n",
            "Train Epoch: 6 [3200/3836 (85%)]\tLoss: 0.295179\n",
            "Train set: Average loss: 0.1381, Accuracy: 3624/3836 (94%)\n",
            "Val set: Average loss: 1.3179, Accuracy: 167/261 (64%), Precision: 0.6441, Recall: 0.7862, F1: 0.7081\n",
            "Train Epoch: 7 [0/3836 (2%)]\tLoss: 0.117009\n",
            "Train Epoch: 7 [640/3836 (18%)]\tLoss: 0.094891\n",
            "Train Epoch: 7 [1280/3836 (35%)]\tLoss: 0.116890\n",
            "Train Epoch: 7 [1920/3836 (52%)]\tLoss: 0.224906\n",
            "Train Epoch: 7 [2560/3836 (68%)]\tLoss: 0.266589\n",
            "Train Epoch: 7 [3200/3836 (85%)]\tLoss: 0.151803\n",
            "Train set: Average loss: 0.1306, Accuracy: 3627/3836 (95%)\n",
            "Val set: Average loss: 1.4652, Accuracy: 157/261 (60%), Precision: 0.6030, Recall: 0.8276, F1: 0.6977\n",
            "Train Epoch: 8 [0/3836 (2%)]\tLoss: 0.186484\n",
            "Train Epoch: 8 [640/3836 (18%)]\tLoss: 0.124910\n",
            "Train Epoch: 8 [1280/3836 (35%)]\tLoss: 0.079460\n",
            "Train Epoch: 8 [1920/3836 (52%)]\tLoss: 0.185703\n",
            "Train Epoch: 8 [2560/3836 (68%)]\tLoss: 0.182205\n",
            "Train Epoch: 8 [3200/3836 (85%)]\tLoss: 0.128514\n",
            "Train set: Average loss: 0.1345, Accuracy: 3625/3836 (94%)\n",
            "Val set: Average loss: 1.2997, Accuracy: 163/261 (62%), Precision: 0.6516, Recall: 0.6966, F1: 0.6733\n",
            "Train Epoch: 9 [0/3836 (2%)]\tLoss: 0.079273\n",
            "Train Epoch: 9 [640/3836 (18%)]\tLoss: 0.202166\n",
            "Train Epoch: 9 [1280/3836 (35%)]\tLoss: 0.115267\n",
            "Train Epoch: 9 [1920/3836 (52%)]\tLoss: 0.242602\n",
            "Train Epoch: 9 [2560/3836 (68%)]\tLoss: 0.073192\n",
            "Train Epoch: 9 [3200/3836 (85%)]\tLoss: 0.108723\n",
            "Train set: Average loss: 0.1024, Accuracy: 3692/3836 (96%)\n",
            "Val set: Average loss: 1.9488, Accuracy: 153/261 (59%), Precision: 0.5815, Recall: 0.9103, F1: 0.7097\n",
            "Train Epoch: 10 [0/3836 (2%)]\tLoss: 0.075972\n",
            "Train Epoch: 10 [640/3836 (18%)]\tLoss: 0.121925\n",
            "Train Epoch: 10 [1280/3836 (35%)]\tLoss: 0.130711\n",
            "Train Epoch: 10 [1920/3836 (52%)]\tLoss: 0.089020\n",
            "Train Epoch: 10 [2560/3836 (68%)]\tLoss: 0.110123\n",
            "Train Epoch: 10 [3200/3836 (85%)]\tLoss: 0.066374\n",
            "Train set: Average loss: 0.0892, Accuracy: 3694/3836 (96%)\n",
            "Val set: Average loss: 1.6751, Accuracy: 158/261 (61%), Precision: 0.6129, Recall: 0.7862, F1: 0.6888\n",
            "Train Epoch: 11 [0/3836 (2%)]\tLoss: 0.071340\n",
            "Train Epoch: 11 [640/3836 (18%)]\tLoss: 0.224553\n",
            "Train Epoch: 11 [1280/3836 (35%)]\tLoss: 0.041341\n",
            "Train Epoch: 11 [1920/3836 (52%)]\tLoss: 0.170892\n",
            "Train Epoch: 11 [2560/3836 (68%)]\tLoss: 0.138645\n",
            "Train Epoch: 11 [3200/3836 (85%)]\tLoss: 0.121439\n",
            "Train set: Average loss: 0.1750, Accuracy: 3559/3836 (93%)\n",
            "Val set: Average loss: 2.4573, Accuracy: 152/261 (58%), Precision: 0.5750, Recall: 0.9517, F1: 0.7169\n",
            "Train Epoch: 12 [0/3836 (2%)]\tLoss: 0.217233\n",
            "Train Epoch: 12 [640/3836 (18%)]\tLoss: 0.274165\n",
            "Train Epoch: 12 [1280/3836 (35%)]\tLoss: 0.117060\n",
            "Train Epoch: 12 [1920/3836 (52%)]\tLoss: 0.085191\n",
            "Train Epoch: 12 [2560/3836 (68%)]\tLoss: 0.170188\n",
            "Train Epoch: 12 [3200/3836 (85%)]\tLoss: 0.054683\n",
            "Train set: Average loss: 0.0753, Accuracy: 3716/3836 (97%)\n",
            "Val set: Average loss: 1.7043, Accuracy: 159/261 (61%), Precision: 0.6150, Recall: 0.7931, F1: 0.6928\n",
            "Train Epoch: 13 [0/3836 (2%)]\tLoss: 0.134701\n",
            "Train Epoch: 13 [640/3836 (18%)]\tLoss: 0.101294\n",
            "Train Epoch: 13 [1280/3836 (35%)]\tLoss: 0.137503\n",
            "Train Epoch: 13 [1920/3836 (52%)]\tLoss: 0.137013\n",
            "Train Epoch: 13 [2560/3836 (68%)]\tLoss: 0.175542\n",
            "Train Epoch: 13 [3200/3836 (85%)]\tLoss: 0.158524\n",
            "Train set: Average loss: 0.0804, Accuracy: 3703/3836 (97%)\n",
            "Val set: Average loss: 1.9140, Accuracy: 154/261 (59%), Precision: 0.5913, Recall: 0.8483, F1: 0.6969\n",
            "Train Epoch: 14 [0/3836 (2%)]\tLoss: 0.135719\n",
            "Train Epoch: 14 [640/3836 (18%)]\tLoss: 0.123322\n",
            "Train Epoch: 14 [1280/3836 (35%)]\tLoss: 0.082359\n",
            "Train Epoch: 14 [1920/3836 (52%)]\tLoss: 0.048058\n",
            "Train Epoch: 14 [2560/3836 (68%)]\tLoss: 0.110388\n",
            "Train Epoch: 14 [3200/3836 (85%)]\tLoss: 0.145374\n",
            "Train set: Average loss: 0.0656, Accuracy: 3746/3836 (98%)\n",
            "Val set: Average loss: 1.6702, Accuracy: 161/261 (62%), Precision: 0.6216, Recall: 0.7931, F1: 0.6970\n"
          ],
          "name": "stdout"
        }
      ]
    },
    {
      "cell_type": "code",
      "metadata": {
        "id": "FRknaoRPn3Ef",
        "colab_type": "code",
        "colab": {}
      },
      "source": [
        "output_folder = '/content/drive/My Drive/kaggle/output'\n",
        "output_file = os.path.join(output_folder, '0409_vgg_v2.txt')\n",
        "\n",
        "with open(output_file, 'a') as f:\n",
        "    f.write('train_loss\\n')\n",
        "    for item in finetune.train_loss:\n",
        "        f.write('%s\\n' % item)\n",
        "    f.write('train_accuracy\\n')\n",
        "    for item in finetune.train_accuracy:\n",
        "        f.write('%s\\n' % item)\n",
        "    f.write('val_loss\\n')\n",
        "    for item in finetune.val_loss:\n",
        "        f.write('%s\\n' % item)\n",
        "    f.write('val_accuracy\\n')\n",
        "    for item in finetune.val_accuracy:\n",
        "        f.write('%s\\n' % item)"
      ],
      "execution_count": 0,
      "outputs": []
    },
    {
      "cell_type": "code",
      "metadata": {
        "id": "kdwfANoqxuV0",
        "colab_type": "code",
        "outputId": "2de129c2-2cc1-4a4f-eeb6-c9df6c043fad",
        "colab": {
          "base_uri": "https://localhost:8080/",
          "height": 265
        }
      },
      "source": [
        "finetune.plot_accuracy()"
      ],
      "execution_count": 0,
      "outputs": [
        {
          "output_type": "display_data",
          "data": {
            "image/png": "[encoded data removed]",
            "text/plain": [
              "<Figure size 432x288 with 1 Axes>"
            ]
          },
          "metadata": {
            "tags": []
          }
        }
      ]
    },
    {
      "cell_type": "code",
      "metadata": {
        "id": "CzJXjAbBx_85",
        "colab_type": "code",
        "outputId": "b1e91963-9345-47d6-80b6-1bc6d950f4f1",
        "colab": {
          "base_uri": "https://localhost:8080/",
          "height": 265
        }
      },
      "source": [
        "finetune.plot_loss()"
      ],
      "execution_count": 0,
      "outputs": [
        {
          "output_type": "display_data",
          "data": {
            "image/png": "[encoded data removed]",
            "text/plain": [
              "<Figure size 432x288 with 1 Axes>"
            ]
          },
          "metadata": {
            "tags": []
          }
        }
      ]
    },
    {
      "cell_type": "code",
      "metadata": {
        "id": "66wIMw7YLvJ-",
        "colab_type": "code",
        "colab": {}
      },
      "source": [
        "torch.save(model.state_dict(), os.path.join(model_path, '0402_vgg_2layer.pth'))"
      ],
      "execution_count": 0,
      "outputs": []
    },
    {
      "cell_type": "markdown",
      "metadata": {
        "id": "Vc2o1S2L9h57",
        "colab_type": "text"
      },
      "source": [
        "### 1-layer classifer"
      ]
    },
    {
      "cell_type": "code",
      "metadata": {
        "id": "DnvsIByY9k_n",
        "colab_type": "code",
        "outputId": "5460ade2-de82-4a85-e3f2-194534700938",
        "colab": {
          "base_uri": "https://localhost:8080/",
          "height": 35
        }
      },
      "source": [
        "old_classifier = [nn.Linear(25088,1)]\n",
        "vgg16.classifier = nn.Sequential(*old_classifier) \n",
        "\n",
        "freeze_until(vgg16, \"features.28.weight\")"
      ],
      "execution_count": 0,
      "outputs": [
        {
          "output_type": "stream",
          "text": [
            "Layer to fine-tune: ['features.28.weight', 'features.28.bias', 'classifier.0.weight', 'classifier.0.bias']\n"
          ],
          "name": "stdout"
        }
      ]
    },
    {
      "cell_type": "code",
      "metadata": {
        "id": "n9vDgKXz9k2f",
        "colab_type": "code",
        "outputId": "f3b3e393-073e-441d-bee5-96f1a49e5aa5",
        "colab": {
          "base_uri": "https://localhost:8080/"
        }
      },
      "source": [
        "# del model\n",
        "model = MyEnsemble(vgg16, n_frames=n_frames)\n",
        "model.cuda()\n",
        "\n",
        "optimizer = optim.SGD(model.parameters(), lr=0.001, momentum=0.9)\n",
        "finetune = FineTune(model, 'vgg16', epoch=50, optimizer=optimizer, log_interval=10)\n",
        "finetune.train()"
      ],
      "execution_count": 0,
      "outputs": [
        {
          "output_type": "stream",
          "text": [
            "Train Epoch: 0 [0/3836 (2%)]\tLoss: 0.692762\n",
            "Train Epoch: 0 [640/3836 (18%)]\tLoss: 0.682810\n",
            "Train Epoch: 0 [1280/3836 (35%)]\tLoss: 0.714087\n",
            "Train Epoch: 0 [1920/3836 (52%)]\tLoss: 0.706023\n",
            "Train Epoch: 0 [2560/3836 (68%)]\tLoss: 0.648594\n",
            "Train Epoch: 0 [3200/3836 (85%)]\tLoss: 0.707735\n",
            "Train set: Average loss: 0.6802, Accuracy: 2200/3836 (57%)\n",
            "Val set: Average loss: 0.6933, Accuracy: 141/261 (54%), Precision: 0.5532, Recall: 0.8966, F1: 0.6842\n",
            "Train Epoch: 1 [0/3836 (2%)]\tLoss: 0.695431\n",
            "Train Epoch: 1 [640/3836 (18%)]\tLoss: 0.661663\n",
            "Train Epoch: 1 [1280/3836 (35%)]\tLoss: 0.708673\n",
            "Train Epoch: 1 [1920/3836 (52%)]\tLoss: 0.687631\n",
            "Train Epoch: 1 [2560/3836 (68%)]\tLoss: 0.647421\n",
            "Train Epoch: 1 [3200/3836 (85%)]\tLoss: 0.588928\n",
            "Train set: Average loss: 0.6044, Accuracy: 2641/3836 (69%)\n",
            "Val set: Average loss: 0.7106, Accuracy: 127/261 (49%), Precision: 0.5495, Recall: 0.4207, F1: 0.4766\n",
            "Train Epoch: 2 [0/3836 (2%)]\tLoss: 0.586914\n",
            "Train Epoch: 2 [640/3836 (18%)]\tLoss: 0.591347\n",
            "Train Epoch: 2 [1280/3836 (35%)]\tLoss: 0.494083\n",
            "Train Epoch: 2 [1920/3836 (52%)]\tLoss: 0.509121\n",
            "Train Epoch: 2 [2560/3836 (68%)]\tLoss: 0.491080\n",
            "Train Epoch: 2 [3200/3836 (85%)]\tLoss: 0.401833\n",
            "Train set: Average loss: 0.3800, Accuracy: 3213/3836 (84%)\n",
            "Val set: Average loss: 0.8427, Accuracy: 139/261 (53%), Precision: 0.5680, Recall: 0.6621, F1: 0.6115\n",
            "Train Epoch: 3 [0/3836 (2%)]\tLoss: 0.385560\n",
            "Train Epoch: 3 [640/3836 (18%)]\tLoss: 0.338421\n",
            "Train Epoch: 3 [1280/3836 (35%)]\tLoss: 0.329325\n",
            "Train Epoch: 3 [1920/3836 (52%)]\tLoss: 0.228068\n",
            "Train Epoch: 3 [2560/3836 (68%)]\tLoss: 0.265017\n",
            "Train Epoch: 3 [3200/3836 (85%)]\tLoss: 0.365144\n",
            "Train set: Average loss: 0.2459, Accuracy: 3489/3836 (91%)\n",
            "Val set: Average loss: 0.9957, Accuracy: 138/261 (53%), Precision: 0.5640, Recall: 0.6690, F1: 0.6120\n",
            "Train Epoch: 4 [0/3836 (2%)]\tLoss: 0.225402\n",
            "Train Epoch: 4 [640/3836 (18%)]\tLoss: 0.287143\n",
            "Train Epoch: 4 [1280/3836 (35%)]\tLoss: 0.273913\n",
            "Train Epoch: 4 [1920/3836 (52%)]\tLoss: 0.199325\n",
            "Train Epoch: 4 [2560/3836 (68%)]\tLoss: 0.322162\n",
            "Train Epoch: 4 [3200/3836 (85%)]\tLoss: 0.248537\n",
            "Train set: Average loss: 0.1928, Accuracy: 3562/3836 (93%)\n",
            "Val set: Average loss: 1.0136, Accuracy: 154/261 (59%), Precision: 0.6188, Recall: 0.6828, F1: 0.6492\n",
            "Train Epoch: 5 [0/3836 (2%)]\tLoss: 0.197884\n",
            "Train Epoch: 5 [640/3836 (18%)]\tLoss: 0.140599\n",
            "Train Epoch: 5 [1280/3836 (35%)]\tLoss: 0.186871\n",
            "Train Epoch: 5 [1920/3836 (52%)]\tLoss: 0.107739\n",
            "Train Epoch: 5 [2560/3836 (68%)]\tLoss: 0.129375\n",
            "Train Epoch: 5 [3200/3836 (85%)]\tLoss: 0.216830\n",
            "Train set: Average loss: 0.1487, Accuracy: 3604/3836 (94%)\n",
            "Val set: Average loss: 1.2031, Accuracy: 153/261 (59%), Precision: 0.5979, Recall: 0.7793, F1: 0.6766\n",
            "Train Epoch: 6 [0/3836 (2%)]\tLoss: 0.160878\n",
            "Train Epoch: 6 [640/3836 (18%)]\tLoss: 0.156203\n",
            "Train Epoch: 6 [1280/3836 (35%)]\tLoss: 0.288049\n",
            "Train Epoch: 6 [1920/3836 (52%)]\tLoss: 0.194522\n",
            "Train Epoch: 6 [2560/3836 (68%)]\tLoss: 0.210944\n",
            "Train Epoch: 6 [3200/3836 (85%)]\tLoss: 0.187498\n",
            "Train set: Average loss: 0.1200, Accuracy: 3673/3836 (96%)\n",
            "Val set: Average loss: 1.2351, Accuracy: 149/261 (57%), Precision: 0.5846, Recall: 0.7862, F1: 0.6706\n",
            "Train Epoch: 7 [0/3836 (2%)]\tLoss: 0.128342\n",
            "Train Epoch: 7 [640/3836 (18%)]\tLoss: 0.125750\n",
            "Train Epoch: 7 [1280/3836 (35%)]\tLoss: 0.094702\n",
            "Train Epoch: 7 [1920/3836 (52%)]\tLoss: 0.195849\n",
            "Train Epoch: 7 [2560/3836 (68%)]\tLoss: 0.108166\n",
            "Train Epoch: 7 [3200/3836 (85%)]\tLoss: 0.091578\n",
            "Train set: Average loss: 0.1404, Accuracy: 3617/3836 (94%)\n",
            "Val set: Average loss: 1.2153, Accuracy: 164/261 (63%), Precision: 0.6558, Recall: 0.6966, F1: 0.6756\n",
            "Train Epoch: 8 [0/3836 (2%)]\tLoss: 0.112945\n",
            "Train Epoch: 8 [640/3836 (18%)]\tLoss: 0.102130\n",
            "Train Epoch: 8 [1280/3836 (35%)]\tLoss: 0.073015\n",
            "Train Epoch: 8 [1920/3836 (52%)]\tLoss: 0.123636\n",
            "Train Epoch: 8 [2560/3836 (68%)]\tLoss: 0.125961\n",
            "Train Epoch: 8 [3200/3836 (85%)]\tLoss: 0.249678\n",
            "Train set: Average loss: 0.2640, Accuracy: 3407/3836 (89%)\n",
            "Val set: Average loss: 1.2455, Accuracy: 160/261 (61%), Precision: 0.6833, Recall: 0.5655, F1: 0.6189\n",
            "Train Epoch: 9 [0/3836 (2%)]\tLoss: 0.334742\n",
            "Train Epoch: 9 [640/3836 (18%)]\tLoss: 0.046331\n",
            "Train Epoch: 9 [1280/3836 (35%)]\tLoss: 0.097215\n",
            "Train Epoch: 9 [1920/3836 (52%)]\tLoss: 0.174374\n",
            "Train Epoch: 9 [2560/3836 (68%)]\tLoss: 0.055628\n",
            "Train Epoch: 9 [3200/3836 (85%)]\tLoss: 0.089652\n",
            "Train set: Average loss: 0.0852, Accuracy: 3724/3836 (97%)\n",
            "Val set: Average loss: 1.5903, Accuracy: 150/261 (57%), Precision: 0.5787, Recall: 0.8621, F1: 0.6925\n",
            "Train Epoch: 10 [0/3836 (2%)]\tLoss: 0.074611\n",
            "Train Epoch: 10 [640/3836 (18%)]\tLoss: 0.054891\n",
            "Train Epoch: 10 [1280/3836 (35%)]\tLoss: 0.200052\n",
            "Train Epoch: 10 [1920/3836 (52%)]\tLoss: 0.061527\n",
            "Train Epoch: 10 [2560/3836 (68%)]\tLoss: 0.136970\n",
            "Train Epoch: 10 [3200/3836 (85%)]\tLoss: 0.206164\n",
            "Train set: Average loss: 0.0838, Accuracy: 3714/3836 (97%)\n",
            "Val set: Average loss: 1.3965, Accuracy: 157/261 (60%), Precision: 0.6085, Recall: 0.7931, F1: 0.6886\n",
            "Train Epoch: 11 [0/3836 (2%)]\tLoss: 0.055128\n",
            "Train Epoch: 11 [640/3836 (18%)]\tLoss: 0.113459\n",
            "Train Epoch: 11 [1280/3836 (35%)]\tLoss: 0.125817\n",
            "Train Epoch: 11 [1920/3836 (52%)]\tLoss: 0.081435\n",
            "Train Epoch: 11 [2560/3836 (68%)]\tLoss: 0.073262\n",
            "Train Epoch: 11 [3200/3836 (85%)]\tLoss: 0.085698\n",
            "Train set: Average loss: 0.0799, Accuracy: 3722/3836 (97%)\n",
            "Val set: Average loss: 1.4154, Accuracy: 163/261 (62%), Precision: 0.6284, Recall: 0.7931, F1: 0.7012\n",
            "Train Epoch: 12 [0/3836 (2%)]\tLoss: 0.086193\n",
            "Train Epoch: 12 [640/3836 (18%)]\tLoss: 0.136123\n",
            "Train Epoch: 12 [1280/3836 (35%)]\tLoss: 0.036355\n",
            "Train Epoch: 12 [1920/3836 (52%)]\tLoss: 0.065689\n",
            "Train Epoch: 12 [2560/3836 (68%)]\tLoss: 0.113124\n",
            "Train Epoch: 12 [3200/3836 (85%)]\tLoss: 0.026512\n",
            "Train set: Average loss: 0.1367, Accuracy: 3613/3836 (94%)\n",
            "Val set: Average loss: 2.1880, Accuracy: 147/261 (56%), Precision: 0.5677, Recall: 0.8966, F1: 0.6952\n",
            "Train Epoch: 13 [0/3836 (2%)]\tLoss: 0.245427\n",
            "Train Epoch: 13 [640/3836 (18%)]\tLoss: 0.140082\n",
            "Train Epoch: 13 [1280/3836 (35%)]\tLoss: 0.096407\n",
            "Train Epoch: 13 [1920/3836 (52%)]\tLoss: 0.050277\n",
            "Train Epoch: 13 [2560/3836 (68%)]\tLoss: 0.104147\n",
            "Train Epoch: 13 [3200/3836 (85%)]\tLoss: 0.133654\n",
            "Train set: Average loss: 0.0765, Accuracy: 3722/3836 (97%)\n",
            "Val set: Average loss: 1.5120, Accuracy: 157/261 (60%), Precision: 0.6085, Recall: 0.7931, F1: 0.6886\n",
            "Train Epoch: 14 [0/3836 (2%)]\tLoss: 0.094405\n",
            "Train Epoch: 14 [640/3836 (18%)]\tLoss: 0.057854\n",
            "Train Epoch: 14 [1280/3836 (35%)]\tLoss: 0.079335\n",
            "Train Epoch: 14 [1920/3836 (52%)]\tLoss: 0.037741\n",
            "Train Epoch: 14 [2560/3836 (68%)]\tLoss: 0.107595\n",
            "Train Epoch: 14 [3200/3836 (85%)]\tLoss: 0.132444\n",
            "Train set: Average loss: 0.0650, Accuracy: 3743/3836 (98%)\n",
            "Val set: Average loss: 1.6184, Accuracy: 152/261 (58%), Precision: 0.5918, Recall: 0.8000, F1: 0.6804\n",
            "Train Epoch: 15 [0/3836 (2%)]\tLoss: 0.096294\n",
            "Train Epoch: 15 [640/3836 (18%)]\tLoss: 0.089037\n",
            "Train Epoch: 15 [1280/3836 (35%)]\tLoss: 0.047091\n",
            "Train Epoch: 15 [1920/3836 (52%)]\tLoss: 0.090919\n",
            "Train Epoch: 15 [2560/3836 (68%)]\tLoss: 0.072048\n",
            "Train Epoch: 15 [3200/3836 (85%)]\tLoss: 0.080815\n",
            "Train set: Average loss: 0.0735, Accuracy: 3717/3836 (97%)\n",
            "Val set: Average loss: 2.1325, Accuracy: 144/261 (55%), Precision: 0.5614, Recall: 0.8828, F1: 0.6863\n",
            "Train Epoch: 16 [0/3836 (2%)]\tLoss: 0.057557\n",
            "Train Epoch: 16 [640/3836 (18%)]\tLoss: 0.044381\n",
            "Train Epoch: 16 [1280/3836 (35%)]\tLoss: 0.134168\n",
            "Train Epoch: 16 [1920/3836 (52%)]\tLoss: 0.046256\n",
            "Train Epoch: 16 [2560/3836 (68%)]\tLoss: 0.064411\n",
            "Train Epoch: 16 [3200/3836 (85%)]\tLoss: 0.085473\n",
            "Train set: Average loss: 0.0996, Accuracy: 3683/3836 (96%)\n",
            "Val set: Average loss: 1.8562, Accuracy: 156/261 (60%), Precision: 0.5952, Recall: 0.8621, F1: 0.7042\n",
            "Train Epoch: 17 [0/3836 (2%)]\tLoss: 0.121724\n",
            "Train Epoch: 17 [640/3836 (18%)]\tLoss: 0.031458\n",
            "Train Epoch: 17 [1280/3836 (35%)]\tLoss: 0.012037\n",
            "Train Epoch: 17 [1920/3836 (52%)]\tLoss: 0.023921\n",
            "Train Epoch: 17 [2560/3836 (68%)]\tLoss: 0.169075\n",
            "Train Epoch: 17 [3200/3836 (85%)]\tLoss: 0.095008\n",
            "Train set: Average loss: 0.0659, Accuracy: 3735/3836 (97%)\n",
            "Val set: Average loss: 1.7584, Accuracy: 151/261 (58%), Precision: 0.5871, Recall: 0.8138, F1: 0.6821\n",
            "Train Epoch: 18 [0/3836 (2%)]\tLoss: 0.042638\n",
            "Train Epoch: 18 [640/3836 (18%)]\tLoss: 0.044515\n",
            "Train Epoch: 18 [1280/3836 (35%)]\tLoss: 0.110116\n",
            "Train Epoch: 18 [1920/3836 (52%)]\tLoss: 0.053202\n",
            "Train Epoch: 18 [2560/3836 (68%)]\tLoss: 0.121229\n",
            "Train Epoch: 18 [3200/3836 (85%)]\tLoss: 0.072613\n",
            "Train set: Average loss: 0.0826, Accuracy: 3700/3836 (96%)\n",
            "Val set: Average loss: 1.4880, Accuracy: 161/261 (62%), Precision: 0.6415, Recall: 0.7034, F1: 0.6711\n",
            "Train Epoch: 19 [0/3836 (2%)]\tLoss: 0.022073\n",
            "Train Epoch: 19 [640/3836 (18%)]\tLoss: 0.063086\n",
            "Train Epoch: 19 [1280/3836 (35%)]\tLoss: 0.165380\n",
            "Train Epoch: 19 [1920/3836 (52%)]\tLoss: 0.171709\n",
            "Train Epoch: 19 [2560/3836 (68%)]\tLoss: 0.040844\n",
            "Train Epoch: 19 [3200/3836 (85%)]\tLoss: 0.093724\n",
            "Train set: Average loss: 0.0567, Accuracy: 3745/3836 (98%)\n",
            "Val set: Average loss: 1.8681, Accuracy: 160/261 (61%), Precision: 0.6058, Recall: 0.8690, F1: 0.7139\n",
            "Train Epoch: 20 [0/3836 (2%)]\tLoss: 0.083066\n",
            "Train Epoch: 20 [640/3836 (18%)]\tLoss: 0.041334\n",
            "Train Epoch: 20 [1280/3836 (35%)]\tLoss: 0.024509\n",
            "Train Epoch: 20 [1920/3836 (52%)]\tLoss: 0.073134\n",
            "Train Epoch: 20 [2560/3836 (68%)]\tLoss: 0.138148\n",
            "Train Epoch: 20 [3200/3836 (85%)]\tLoss: 0.083145\n",
            "Train set: Average loss: 0.0540, Accuracy: 3759/3836 (98%)\n",
            "Val set: Average loss: 1.6798, Accuracy: 163/261 (62%), Precision: 0.6218, Recall: 0.8276, F1: 0.7101\n",
            "Train Epoch: 21 [0/3836 (2%)]\tLoss: 0.054262\n",
            "Train Epoch: 21 [640/3836 (18%)]\tLoss: 0.040272\n",
            "Train Epoch: 21 [1280/3836 (35%)]\tLoss: 0.030919\n",
            "Train Epoch: 21 [1920/3836 (52%)]\tLoss: 0.100730\n",
            "Train Epoch: 21 [2560/3836 (68%)]\tLoss: 0.024601\n",
            "Train Epoch: 21 [3200/3836 (85%)]\tLoss: 0.129570\n",
            "Train set: Average loss: 0.0795, Accuracy: 3701/3836 (96%)\n",
            "Val set: Average loss: 1.9883, Accuracy: 154/261 (59%), Precision: 0.5880, Recall: 0.8759, F1: 0.7036\n",
            "Train Epoch: 22 [0/3836 (2%)]\tLoss: 0.030303\n",
            "Train Epoch: 22 [640/3836 (18%)]\tLoss: 0.049536\n",
            "Train Epoch: 22 [1280/3836 (35%)]\tLoss: 0.106198\n",
            "Train Epoch: 22 [1920/3836 (52%)]\tLoss: 0.040898\n",
            "Train Epoch: 22 [2560/3836 (68%)]\tLoss: 0.012554\n",
            "Train Epoch: 22 [3200/3836 (85%)]\tLoss: 0.042209\n",
            "Train set: Average loss: 0.0630, Accuracy: 3733/3836 (97%)\n",
            "Val set: Average loss: 1.7381, Accuracy: 162/261 (62%), Precision: 0.6186, Recall: 0.8276, F1: 0.7080\n",
            "Train Epoch: 23 [0/3836 (2%)]\tLoss: 0.101722\n",
            "Train Epoch: 23 [640/3836 (18%)]\tLoss: 0.095590\n",
            "Train Epoch: 23 [1280/3836 (35%)]\tLoss: 0.099887\n",
            "Train Epoch: 23 [1920/3836 (52%)]\tLoss: 0.034478\n",
            "Train Epoch: 23 [2560/3836 (68%)]\tLoss: 0.047684\n",
            "Train Epoch: 23 [3200/3836 (85%)]\tLoss: 0.054989\n"
          ],
          "name": "stdout"
        }
      ]
    },
    {
      "cell_type": "code",
      "metadata": {
        "id": "Hr6rVw3uBleo",
        "colab_type": "code",
        "colab": {}
      },
      "source": [
        "torch.save(model.state_dict(), os.path.join(model_path, '0404_vgg_1layer.pth'))"
      ],
      "execution_count": 0,
      "outputs": []
    },
    {
      "cell_type": "markdown",
      "metadata": {
        "id": "DBxD19agztcR",
        "colab_type": "text"
      },
      "source": [
        "## CNN-ResNet Model"
      ]
    },
    {
      "cell_type": "code",
      "metadata": {
        "id": "hWE2NNbNztNq",
        "colab_type": "code",
        "outputId": "76d71ab2-ae1d-4929-cb3a-0b42ae5987a0",
        "colab": {
          "base_uri": "https://localhost:8080/",
          "height": 35
        }
      },
      "source": [
        "# load original model\n",
        "model_path = '/content/drive/My Drive/kaggle/cnn_detection'\n",
        "model_file = 'blur_jpg_prob0.1.pth'\n",
        "\n",
        "resnet = resnet50(num_classes=1)\n",
        "state_dict = torch.load(os.path.join(model_path, model_file), map_location=device)\n",
        "resnet.load_state_dict(state_dict['model'])"
      ],
      "execution_count": 0,
      "outputs": [
        {
          "output_type": "execute_result",
          "data": {
            "text/plain": [
              "<All keys matched successfully>"
            ]
          },
          "metadata": {
            "tags": []
          },
          "execution_count": 14
        }
      ]
    },
    {
      "cell_type": "markdown",
      "metadata": {
        "id": "bMJUKR8TMnFH",
        "colab_type": "text"
      },
      "source": [
        "### Baseline"
      ]
    },
    {
      "cell_type": "code",
      "metadata": {
        "id": "VZ52Sl6qMxzd",
        "colab_type": "code",
        "outputId": "07ebd41a-55cb-493c-faa6-f3641c3041d5",
        "colab": {
          "base_uri": "https://localhost:8080/",
          "height": 35
        }
      },
      "source": [
        "freeze_until(resnet, \"fc.weight\")"
      ],
      "execution_count": 0,
      "outputs": [
        {
          "output_type": "stream",
          "text": [
            "Layer to fine-tune: ['fc.weight', 'fc.bias']\n"
          ],
          "name": "stdout"
        }
      ]
    },
    {
      "cell_type": "code",
      "metadata": {
        "id": "bqVkq7Z6M1xL",
        "colab_type": "code",
        "outputId": "a9ab89a4-d6ab-49bb-93ff-60ccdcbf78d4",
        "colab": {
          "base_uri": "https://localhost:8080/",
          "height": 1000
        }
      },
      "source": [
        "# del model\n",
        "model = MyEnsemble(resnet, n_frames=n_frames)\n",
        "model.cuda()\n",
        "optimizer = optim.SGD(model.parameters(), lr=0.0002, momentum=0.9)\n",
        "finetune = FineTune(model, 'vgg16', epoch=25, optimizer=optimizer, filename='0417_resnet_0.0002_baseline', log_interval=10)\n",
        "finetune.train()"
      ],
      "execution_count": 0,
      "outputs": [
        {
          "output_type": "stream",
          "text": [
            "Train Epoch: 0 [0/3836 (2%)]\tLoss: 2.423913\n",
            "Train Epoch: 0 [640/3836 (18%)]\tLoss: 2.523792\n",
            "Train Epoch: 0 [1280/3836 (35%)]\tLoss: 1.985907\n",
            "Train Epoch: 0 [1920/3836 (52%)]\tLoss: 0.954043\n",
            "Train Epoch: 0 [2560/3836 (68%)]\tLoss: 1.083990\n",
            "Train Epoch: 0 [3200/3836 (85%)]\tLoss: 0.875706\n",
            "Train set: Average loss: 0.7034, Accuracy: 2221/3836 (58%)\n",
            "Val set: Average loss: 0.7015, Accuracy: 152/261 (58%), Precision: 0.6011, Recall: 0.7379, F1: 0.6625\n",
            "Train Epoch: 1 [0/3836 (2%)]\tLoss: 0.704461\n",
            "Train Epoch: 1 [640/3836 (18%)]\tLoss: 0.696205\n",
            "Train Epoch: 1 [1280/3836 (35%)]\tLoss: 0.669851\n",
            "Train Epoch: 1 [1920/3836 (52%)]\tLoss: 0.670897\n",
            "Train Epoch: 1 [2560/3836 (68%)]\tLoss: 0.667608\n",
            "Train Epoch: 1 [3200/3836 (85%)]\tLoss: 0.705804\n",
            "Train set: Average loss: 0.6708, Accuracy: 2270/3836 (59%)\n",
            "Val set: Average loss: 0.6658, Accuracy: 168/261 (64%), Precision: 0.6605, Recall: 0.7379, F1: 0.6971\n",
            "Train Epoch: 2 [0/3836 (2%)]\tLoss: 0.658679\n",
            "Train Epoch: 2 [640/3836 (18%)]\tLoss: 0.765644\n",
            "Train Epoch: 2 [1280/3836 (35%)]\tLoss: 0.619309\n",
            "Train Epoch: 2 [1920/3836 (52%)]\tLoss: 0.625924\n",
            "Train Epoch: 2 [2560/3836 (68%)]\tLoss: 0.728082\n",
            "Train Epoch: 2 [3200/3836 (85%)]\tLoss: 0.697771\n",
            "Train set: Average loss: 0.6738, Accuracy: 2265/3836 (59%)\n",
            "Val set: Average loss: 0.6632, Accuracy: 161/261 (62%), Precision: 0.6744, Recall: 0.6000, F1: 0.6350\n",
            "Train Epoch: 3 [0/3836 (2%)]\tLoss: 0.691601\n",
            "Train Epoch: 3 [640/3836 (18%)]\tLoss: 0.689450\n",
            "Train Epoch: 3 [1280/3836 (35%)]\tLoss: 0.735792\n",
            "Train Epoch: 3 [1920/3836 (52%)]\tLoss: 0.739356\n",
            "Train Epoch: 3 [2560/3836 (68%)]\tLoss: 0.704104\n",
            "Train Epoch: 3 [3200/3836 (85%)]\tLoss: 0.709386\n",
            "Train set: Average loss: 0.6712, Accuracy: 2292/3836 (60%)\n",
            "Val set: Average loss: 0.6657, Accuracy: 167/261 (64%), Precision: 0.6527, Recall: 0.7517, F1: 0.6987\n",
            "Train Epoch: 4 [0/3836 (2%)]\tLoss: 0.724157\n",
            "Train Epoch: 4 [640/3836 (18%)]\tLoss: 0.648854\n",
            "Train Epoch: 4 [1280/3836 (35%)]\tLoss: 0.669466\n",
            "Train Epoch: 4 [1920/3836 (52%)]\tLoss: 0.713519\n",
            "Train Epoch: 4 [2560/3836 (68%)]\tLoss: 0.679291\n",
            "Train Epoch: 4 [3200/3836 (85%)]\tLoss: 0.672789\n",
            "Train set: Average loss: 0.6764, Accuracy: 2250/3836 (59%)\n",
            "Val set: Average loss: 0.6759, Accuracy: 156/261 (60%), Precision: 0.6389, Recall: 0.6345, F1: 0.6367\n",
            "Train Epoch: 5 [0/3836 (2%)]\tLoss: 0.696950\n",
            "Train Epoch: 5 [640/3836 (18%)]\tLoss: 0.735032\n",
            "Train Epoch: 5 [1280/3836 (35%)]\tLoss: 0.699291\n",
            "Train Epoch: 5 [1920/3836 (52%)]\tLoss: 0.715864\n",
            "Train Epoch: 5 [2560/3836 (68%)]\tLoss: 0.636909\n",
            "Train Epoch: 5 [3200/3836 (85%)]\tLoss: 0.735443\n",
            "Train set: Average loss: 0.6674, Accuracy: 2289/3836 (60%)\n",
            "Val set: Average loss: 0.6597, Accuracy: 166/261 (64%), Precision: 0.6603, Recall: 0.7103, F1: 0.6844\n",
            "Train Epoch: 6 [0/3836 (2%)]\tLoss: 0.695319\n",
            "Train Epoch: 6 [640/3836 (18%)]\tLoss: 0.645184\n",
            "Train Epoch: 6 [1280/3836 (35%)]\tLoss: 0.685415\n",
            "Train Epoch: 6 [1920/3836 (52%)]\tLoss: 0.639998\n",
            "Train Epoch: 6 [2560/3836 (68%)]\tLoss: 0.657180\n",
            "Train Epoch: 6 [3200/3836 (85%)]\tLoss: 0.640256\n",
            "Train set: Average loss: 0.6722, Accuracy: 2259/3836 (59%)\n",
            "Val set: Average loss: 0.6695, Accuracy: 167/261 (64%), Precision: 0.6491, Recall: 0.7655, F1: 0.7025\n",
            "Train Epoch: 7 [0/3836 (2%)]\tLoss: 0.705625\n",
            "Train Epoch: 7 [640/3836 (18%)]\tLoss: 0.679668\n",
            "Train Epoch: 7 [1280/3836 (35%)]\tLoss: 0.649454\n",
            "Train Epoch: 7 [1920/3836 (52%)]\tLoss: 0.698372\n",
            "Train Epoch: 7 [2560/3836 (68%)]\tLoss: 0.678959\n",
            "Train Epoch: 7 [3200/3836 (85%)]\tLoss: 0.637949\n",
            "Train set: Average loss: 0.6770, Accuracy: 2224/3836 (58%)\n",
            "Val set: Average loss: 0.6601, Accuracy: 163/261 (62%), Precision: 0.6497, Recall: 0.7034, F1: 0.6755\n",
            "Train Epoch: 8 [0/3836 (2%)]\tLoss: 0.695895\n",
            "Train Epoch: 8 [640/3836 (18%)]\tLoss: 0.680654\n",
            "Train Epoch: 8 [1280/3836 (35%)]\tLoss: 0.684946\n",
            "Train Epoch: 8 [1920/3836 (52%)]\tLoss: 0.684513\n",
            "Train Epoch: 8 [2560/3836 (68%)]\tLoss: 0.677781\n",
            "Train Epoch: 8 [3200/3836 (85%)]\tLoss: 0.699212\n",
            "Train set: Average loss: 0.6729, Accuracy: 2256/3836 (59%)\n",
            "Val set: Average loss: 0.6709, Accuracy: 157/261 (60%), Precision: 0.6306, Recall: 0.6828, F1: 0.6556\n",
            "Train Epoch: 9 [0/3836 (2%)]\tLoss: 0.643535\n",
            "Train Epoch: 9 [640/3836 (18%)]\tLoss: 0.679964\n",
            "Train Epoch: 9 [1280/3836 (35%)]\tLoss: 0.693931\n",
            "Train Epoch: 9 [1920/3836 (52%)]\tLoss: 0.697953\n",
            "Train Epoch: 9 [2560/3836 (68%)]\tLoss: 0.665192\n",
            "Train Epoch: 9 [3200/3836 (85%)]\tLoss: 0.690212\n",
            "Train set: Average loss: 0.6675, Accuracy: 2317/3836 (60%)\n",
            "Val set: Average loss: 0.6630, Accuracy: 166/261 (64%), Precision: 0.6437, Recall: 0.7724, F1: 0.7022\n",
            "Train Epoch: 10 [0/3836 (2%)]\tLoss: 0.706107\n",
            "Train Epoch: 10 [640/3836 (18%)]\tLoss: 0.638492\n",
            "Train Epoch: 10 [1280/3836 (35%)]\tLoss: 0.637081\n",
            "Train Epoch: 10 [1920/3836 (52%)]\tLoss: 0.636626\n",
            "Train Epoch: 10 [2560/3836 (68%)]\tLoss: 0.648722\n",
            "Train Epoch: 10 [3200/3836 (85%)]\tLoss: 0.736882\n",
            "Train set: Average loss: 0.6712, Accuracy: 2257/3836 (59%)\n",
            "Val set: Average loss: 0.6634, Accuracy: 165/261 (63%), Precision: 0.6400, Recall: 0.7724, F1: 0.7000\n",
            "Train Epoch: 11 [0/3836 (2%)]\tLoss: 0.681129\n",
            "Train Epoch: 11 [640/3836 (18%)]\tLoss: 0.659943\n",
            "Train Epoch: 11 [1280/3836 (35%)]\tLoss: 0.644764\n",
            "Train Epoch: 11 [1920/3836 (52%)]\tLoss: 0.738897\n",
            "Train Epoch: 11 [2560/3836 (68%)]\tLoss: 0.717917\n",
            "Train Epoch: 11 [3200/3836 (85%)]\tLoss: 0.632207\n",
            "Train set: Average loss: 0.6658, Accuracy: 2310/3836 (60%)\n",
            "Val set: Average loss: 0.6600, Accuracy: 162/261 (62%), Precision: 0.6337, Recall: 0.7517, F1: 0.6877\n",
            "Train Epoch: 12 [0/3836 (2%)]\tLoss: 0.696989\n",
            "Train Epoch: 12 [640/3836 (18%)]\tLoss: 0.658119\n",
            "Train Epoch: 12 [1280/3836 (35%)]\tLoss: 0.711790\n",
            "Train Epoch: 12 [1920/3836 (52%)]\tLoss: 0.679886\n",
            "Train Epoch: 12 [2560/3836 (68%)]\tLoss: 0.684718\n",
            "Train Epoch: 12 [3200/3836 (85%)]\tLoss: 0.655226\n",
            "Train set: Average loss: 0.6684, Accuracy: 2257/3836 (59%)\n",
            "Val set: Average loss: 0.6627, Accuracy: 162/261 (62%), Precision: 0.6237, Recall: 0.8000, F1: 0.7009\n",
            "Train Epoch: 13 [0/3836 (2%)]\tLoss: 0.664472\n",
            "Train Epoch: 13 [640/3836 (18%)]\tLoss: 0.615124\n",
            "Train Epoch: 13 [1280/3836 (35%)]\tLoss: 0.687792\n",
            "Train Epoch: 13 [1920/3836 (52%)]\tLoss: 0.638105\n",
            "Train Epoch: 13 [2560/3836 (68%)]\tLoss: 0.681280\n",
            "Train Epoch: 13 [3200/3836 (85%)]\tLoss: 0.651522\n",
            "Train set: Average loss: 0.6671, Accuracy: 2303/3836 (60%)\n",
            "Val set: Average loss: 0.6602, Accuracy: 162/261 (62%), Precision: 0.6420, Recall: 0.7172, F1: 0.6775\n",
            "Train Epoch: 14 [0/3836 (2%)]\tLoss: 0.706770\n",
            "Train Epoch: 14 [640/3836 (18%)]\tLoss: 0.677219\n",
            "Train Epoch: 14 [1280/3836 (35%)]\tLoss: 0.681977\n",
            "Train Epoch: 14 [1920/3836 (52%)]\tLoss: 0.680089\n",
            "Train Epoch: 14 [2560/3836 (68%)]\tLoss: 0.656286\n",
            "Train Epoch: 14 [3200/3836 (85%)]\tLoss: 0.647637\n",
            "Train set: Average loss: 0.6656, Accuracy: 2302/3836 (60%)\n",
            "Val set: Average loss: 0.6581, Accuracy: 163/261 (62%), Precision: 0.6374, Recall: 0.7517, F1: 0.6899\n",
            "Train Epoch: 15 [0/3836 (2%)]\tLoss: 0.682494\n",
            "Train Epoch: 15 [640/3836 (18%)]\tLoss: 0.711474\n",
            "Train Epoch: 15 [1280/3836 (35%)]\tLoss: 0.711641\n",
            "Train Epoch: 15 [1920/3836 (52%)]\tLoss: 0.724935\n",
            "Train Epoch: 15 [2560/3836 (68%)]\tLoss: 0.691778\n",
            "Train Epoch: 15 [3200/3836 (85%)]\tLoss: 0.688511\n",
            "Train set: Average loss: 0.6730, Accuracy: 2243/3836 (58%)\n",
            "Val set: Average loss: 0.6658, Accuracy: 159/261 (61%), Precision: 0.6303, Recall: 0.7172, F1: 0.6710\n",
            "Train Epoch: 16 [0/3836 (2%)]\tLoss: 0.683071\n",
            "Train Epoch: 16 [640/3836 (18%)]\tLoss: 0.683329\n",
            "Train Epoch: 16 [1280/3836 (35%)]\tLoss: 0.665568\n",
            "Train Epoch: 16 [1920/3836 (52%)]\tLoss: 0.693572\n",
            "Train Epoch: 16 [2560/3836 (68%)]\tLoss: 0.651991\n",
            "Train Epoch: 16 [3200/3836 (85%)]\tLoss: 0.685965\n",
            "Train set: Average loss: 0.6649, Accuracy: 2341/3836 (61%)\n",
            "Val set: Average loss: 0.6629, Accuracy: 156/261 (60%), Precision: 0.6190, Recall: 0.7172, F1: 0.6645\n",
            "Train Epoch: 17 [0/3836 (2%)]\tLoss: 0.652458\n",
            "Train Epoch: 17 [640/3836 (18%)]\tLoss: 0.638327\n",
            "Train Epoch: 17 [1280/3836 (35%)]\tLoss: 0.617958\n",
            "Train Epoch: 17 [1920/3836 (52%)]\tLoss: 0.690603\n",
            "Train Epoch: 17 [2560/3836 (68%)]\tLoss: 0.694723\n",
            "Train Epoch: 17 [3200/3836 (85%)]\tLoss: 0.674167\n",
            "Train set: Average loss: 0.6692, Accuracy: 2277/3836 (59%)\n",
            "Val set: Average loss: 0.6599, Accuracy: 165/261 (63%), Precision: 0.6384, Recall: 0.7793, F1: 0.7019\n",
            "Train Epoch: 18 [0/3836 (2%)]\tLoss: 0.670764\n",
            "Train Epoch: 18 [640/3836 (18%)]\tLoss: 0.664996\n",
            "Train Epoch: 18 [1280/3836 (35%)]\tLoss: 0.661944\n",
            "Train Epoch: 18 [1920/3836 (52%)]\tLoss: 0.647102\n",
            "Train Epoch: 18 [2560/3836 (68%)]\tLoss: 0.673306\n",
            "Train Epoch: 18 [3200/3836 (85%)]\tLoss: 0.698901\n",
            "Train set: Average loss: 0.6677, Accuracy: 2272/3836 (59%)\n",
            "Val set: Average loss: 0.6562, Accuracy: 167/261 (64%), Precision: 0.6409, Recall: 0.8000, F1: 0.7117\n",
            "Train Epoch: 19 [0/3836 (2%)]\tLoss: 0.694150\n",
            "Train Epoch: 19 [640/3836 (18%)]\tLoss: 0.707922\n",
            "Train Epoch: 19 [1280/3836 (35%)]\tLoss: 0.661747\n",
            "Train Epoch: 19 [1920/3836 (52%)]\tLoss: 0.688449\n",
            "Train Epoch: 19 [2560/3836 (68%)]\tLoss: 0.689254\n",
            "Train Epoch: 19 [3200/3836 (85%)]\tLoss: 0.626578\n",
            "Train set: Average loss: 0.6692, Accuracy: 2257/3836 (59%)\n",
            "Val set: Average loss: 0.6577, Accuracy: 166/261 (64%), Precision: 0.6524, Recall: 0.7379, F1: 0.6926\n",
            "Train Epoch: 20 [0/3836 (2%)]\tLoss: 0.686221\n",
            "Train Epoch: 20 [640/3836 (18%)]\tLoss: 0.655593\n",
            "Train Epoch: 20 [1280/3836 (35%)]\tLoss: 0.647869\n",
            "Train Epoch: 20 [1920/3836 (52%)]\tLoss: 0.707087\n",
            "Train Epoch: 20 [2560/3836 (68%)]\tLoss: 0.680347\n",
            "Train Epoch: 20 [3200/3836 (85%)]\tLoss: 0.690138\n",
            "Train set: Average loss: 0.6631, Accuracy: 2323/3836 (61%)\n",
            "Val set: Average loss: 0.6676, Accuracy: 162/261 (62%), Precision: 0.6198, Recall: 0.8207, F1: 0.7062\n",
            "Train Epoch: 21 [0/3836 (2%)]\tLoss: 0.685029\n",
            "Train Epoch: 21 [640/3836 (18%)]\tLoss: 0.651232\n",
            "Train Epoch: 21 [1280/3836 (35%)]\tLoss: 0.647595\n",
            "Train Epoch: 21 [1920/3836 (52%)]\tLoss: 0.681107\n",
            "Train Epoch: 21 [2560/3836 (68%)]\tLoss: 0.713453\n",
            "Train Epoch: 21 [3200/3836 (85%)]\tLoss: 0.671329\n",
            "Train set: Average loss: 0.6681, Accuracy: 2286/3836 (60%)\n",
            "Val set: Average loss: 0.6620, Accuracy: 167/261 (64%), Precision: 0.6584, Recall: 0.7310, F1: 0.6928\n",
            "Train Epoch: 22 [0/3836 (2%)]\tLoss: 0.680465\n",
            "Train Epoch: 22 [640/3836 (18%)]\tLoss: 0.643000\n",
            "Train Epoch: 22 [1280/3836 (35%)]\tLoss: 0.696374\n",
            "Train Epoch: 22 [1920/3836 (52%)]\tLoss: 0.685331\n",
            "Train Epoch: 22 [2560/3836 (68%)]\tLoss: 0.713817\n",
            "Train Epoch: 22 [3200/3836 (85%)]\tLoss: 0.667833\n",
            "Train set: Average loss: 0.6724, Accuracy: 2284/3836 (60%)\n",
            "Val set: Average loss: 0.6763, Accuracy: 160/261 (61%), Precision: 0.6250, Recall: 0.7586, F1: 0.6854\n",
            "Train Epoch: 23 [0/3836 (2%)]\tLoss: 0.605394\n",
            "Train Epoch: 23 [640/3836 (18%)]\tLoss: 0.640642\n",
            "Train Epoch: 23 [1280/3836 (35%)]\tLoss: 0.628854\n",
            "Train Epoch: 23 [1920/3836 (52%)]\tLoss: 0.676821\n",
            "Train Epoch: 23 [2560/3836 (68%)]\tLoss: 0.692688\n",
            "Train Epoch: 23 [3200/3836 (85%)]\tLoss: 0.677106\n",
            "Train set: Average loss: 0.6671, Accuracy: 2317/3836 (60%)\n",
            "Val set: Average loss: 0.6693, Accuracy: 159/261 (61%), Precision: 0.6091, Recall: 0.8276, F1: 0.7018\n",
            "Train Epoch: 24 [0/3836 (2%)]\tLoss: 0.672896\n",
            "Train Epoch: 24 [640/3836 (18%)]\tLoss: 0.639352\n",
            "Train Epoch: 24 [1280/3836 (35%)]\tLoss: 0.688358\n",
            "Train Epoch: 24 [1920/3836 (52%)]\tLoss: 0.670481\n",
            "Train Epoch: 24 [2560/3836 (68%)]\tLoss: 0.646702\n",
            "Train Epoch: 24 [3200/3836 (85%)]\tLoss: 0.675422\n",
            "Train set: Average loss: 0.6684, Accuracy: 2278/3836 (59%)\n",
            "Val set: Average loss: 0.6599, Accuracy: 161/261 (62%), Precision: 0.6098, Recall: 0.8621, F1: 0.7143\n"
          ],
          "name": "stdout"
        }
      ]
    },
    {
      "cell_type": "markdown",
      "metadata": {
        "id": "aqLODobjMtIi",
        "colab_type": "text"
      },
      "source": [
        "### Finetune"
      ]
    },
    {
      "cell_type": "code",
      "metadata": {
        "id": "V5GWm1K4zvp2",
        "colab_type": "code",
        "outputId": "19dc04cf-a351-422a-e2fa-ac633c49f3e3",
        "colab": {
          "base_uri": "https://localhost:8080/",
          "height": 55
        }
      },
      "source": [
        "freeze_until(resnet, \"layer4.0.conv1.weight\")"
      ],
      "execution_count": 0,
      "outputs": [
        {
          "output_type": "stream",
          "text": [
            "Layer to fine-tune: ['layer4.0.conv1.weight', 'layer4.0.bn1.weight', 'layer4.0.bn1.bias', 'layer4.0.conv2.weight', 'layer4.0.bn2.weight', 'layer4.0.bn2.bias', 'layer4.0.conv3.weight', 'layer4.0.bn3.weight', 'layer4.0.bn3.bias', 'layer4.0.downsample.0.weight', 'layer4.0.downsample.1.weight', 'layer4.0.downsample.1.bias', 'layer4.1.conv1.weight', 'layer4.1.bn1.weight', 'layer4.1.bn1.bias', 'layer4.1.conv2.weight', 'layer4.1.bn2.weight', 'layer4.1.bn2.bias', 'layer4.1.conv3.weight', 'layer4.1.bn3.weight', 'layer4.1.bn3.bias', 'layer4.2.conv1.weight', 'layer4.2.bn1.weight', 'layer4.2.bn1.bias', 'layer4.2.conv2.weight', 'layer4.2.bn2.weight', 'layer4.2.bn2.bias', 'layer4.2.conv3.weight', 'layer4.2.bn3.weight', 'layer4.2.bn3.bias', 'fc.weight', 'fc.bias']\n"
          ],
          "name": "stdout"
        }
      ]
    },
    {
      "cell_type": "code",
      "metadata": {
        "id": "UY-Bj5n1zybG",
        "colab_type": "code",
        "outputId": "fb18c948-49ac-4bf5-b7e4-1115de8a3dc4",
        "colab": {
          "base_uri": "https://localhost:8080/",
          "height": 1000
        }
      },
      "source": [
        "del model\n",
        "model = MyEnsemble(resnet, n_frames=n_frames)\n",
        "model.cuda()\n",
        "optimizer = optim.SGD(model.parameters(), lr=0.005, momentum=0.9)\n",
        "finetune = FineTune(model, 'vgg16', epoch=25, optimizer=optimizer, log_interval=10)\n",
        "finetune.train()"
      ],
      "execution_count": 0,
      "outputs": [
        {
          "output_type": "stream",
          "text": [
            "Train Epoch: 0 [0/3836 (2%)]\tLoss: 4.672503\n",
            "Train Epoch: 0 [640/3836 (18%)]\tLoss: 0.835363\n",
            "Train Epoch: 0 [1280/3836 (35%)]\tLoss: 0.746701\n",
            "Train Epoch: 0 [1920/3836 (52%)]\tLoss: 0.763925\n",
            "Train Epoch: 0 [2560/3836 (68%)]\tLoss: 0.719150\n",
            "Train Epoch: 0 [3200/3836 (85%)]\tLoss: 0.708417\n",
            "Train set: Average loss: 0.6926, Accuracy: 2095/3836 (55%)\n",
            "Val set: Average loss: 0.6969, Accuracy: 141/261 (54%), Precision: 0.5494, Recall: 0.9586, F1: 0.6985\n",
            "Train Epoch: 1 [0/3836 (2%)]\tLoss: 0.655747\n",
            "Train Epoch: 1 [640/3836 (18%)]\tLoss: 0.683343\n",
            "Train Epoch: 1 [1280/3836 (35%)]\tLoss: 0.698127\n",
            "Train Epoch: 1 [1920/3836 (52%)]\tLoss: 0.677461\n",
            "Train Epoch: 1 [2560/3836 (68%)]\tLoss: 0.660658\n",
            "Train Epoch: 1 [3200/3836 (85%)]\tLoss: 0.731807\n",
            "Train set: Average loss: 0.6824, Accuracy: 2184/3836 (57%)\n",
            "Val set: Average loss: 0.6855, Accuracy: 150/261 (57%), Precision: 0.5720, Recall: 0.9310, F1: 0.7087\n",
            "Train Epoch: 2 [0/3836 (2%)]\tLoss: 0.664755\n",
            "Train Epoch: 2 [640/3836 (18%)]\tLoss: 0.674402\n",
            "Train Epoch: 2 [1280/3836 (35%)]\tLoss: 0.694177\n",
            "Train Epoch: 2 [1920/3836 (52%)]\tLoss: 0.692896\n",
            "Train Epoch: 2 [2560/3836 (68%)]\tLoss: 0.701707\n",
            "Train Epoch: 2 [3200/3836 (85%)]\tLoss: 0.672639\n",
            "Train set: Average loss: 0.6782, Accuracy: 2235/3836 (58%)\n",
            "Val set: Average loss: 0.6588, Accuracy: 157/261 (60%), Precision: 0.5887, Recall: 0.9379, F1: 0.7234\n",
            "Train Epoch: 3 [0/3836 (2%)]\tLoss: 0.684074\n",
            "Train Epoch: 3 [640/3836 (18%)]\tLoss: 0.696421\n",
            "Train Epoch: 3 [1280/3836 (35%)]\tLoss: 0.664747\n",
            "Train Epoch: 3 [1920/3836 (52%)]\tLoss: 0.669421\n",
            "Train Epoch: 3 [2560/3836 (68%)]\tLoss: 0.667165\n",
            "Train Epoch: 3 [3200/3836 (85%)]\tLoss: 0.662438\n",
            "Train set: Average loss: 0.6735, Accuracy: 2215/3836 (58%)\n",
            "Val set: Average loss: 0.6786, Accuracy: 153/261 (59%), Precision: 0.5830, Recall: 0.8966, F1: 0.7065\n",
            "Train Epoch: 4 [0/3836 (2%)]\tLoss: 0.724959\n",
            "Train Epoch: 4 [640/3836 (18%)]\tLoss: 0.720559\n",
            "Train Epoch: 4 [1280/3836 (35%)]\tLoss: 0.678883\n",
            "Train Epoch: 4 [1920/3836 (52%)]\tLoss: 0.667986\n",
            "Train Epoch: 4 [2560/3836 (68%)]\tLoss: 0.641366\n",
            "Train Epoch: 4 [3200/3836 (85%)]\tLoss: 0.702604\n",
            "Train set: Average loss: 0.6734, Accuracy: 2253/3836 (59%)\n",
            "Val set: Average loss: 0.6663, Accuracy: 150/261 (57%), Precision: 0.5739, Recall: 0.9103, F1: 0.7040\n",
            "Train Epoch: 5 [0/3836 (2%)]\tLoss: 0.638772\n",
            "Train Epoch: 5 [640/3836 (18%)]\tLoss: 0.712343\n",
            "Train Epoch: 5 [1280/3836 (35%)]\tLoss: 0.713156\n",
            "Train Epoch: 5 [1920/3836 (52%)]\tLoss: 0.672620\n",
            "Train Epoch: 5 [2560/3836 (68%)]\tLoss: 0.762654\n",
            "Train Epoch: 5 [3200/3836 (85%)]\tLoss: 0.669047\n",
            "Train set: Average loss: 0.6713, Accuracy: 2273/3836 (59%)\n",
            "Val set: Average loss: 0.6744, Accuracy: 153/261 (59%), Precision: 0.5822, Recall: 0.9034, F1: 0.7081\n",
            "Train Epoch: 6 [0/3836 (2%)]\tLoss: 0.719727\n",
            "Train Epoch: 6 [640/3836 (18%)]\tLoss: 0.619457\n",
            "Train Epoch: 6 [1280/3836 (35%)]\tLoss: 0.682812\n",
            "Train Epoch: 6 [1920/3836 (52%)]\tLoss: 0.705824\n",
            "Train Epoch: 6 [2560/3836 (68%)]\tLoss: 0.658177\n",
            "Train Epoch: 6 [3200/3836 (85%)]\tLoss: 0.588548\n",
            "Train set: Average loss: 0.6694, Accuracy: 2277/3836 (59%)\n",
            "Val set: Average loss: 0.6642, Accuracy: 160/261 (61%), Precision: 0.6000, Recall: 0.9103, F1: 0.7233\n",
            "Train Epoch: 7 [0/3836 (2%)]\tLoss: 0.640698\n",
            "Train Epoch: 7 [640/3836 (18%)]\tLoss: 0.656577\n",
            "Train Epoch: 7 [1280/3836 (35%)]\tLoss: 0.644671\n",
            "Train Epoch: 7 [1920/3836 (52%)]\tLoss: 0.664770\n",
            "Train Epoch: 7 [2560/3836 (68%)]\tLoss: 0.637070\n",
            "Train Epoch: 7 [3200/3836 (85%)]\tLoss: 0.680450\n",
            "Train set: Average loss: 0.6692, Accuracy: 2236/3836 (58%)\n",
            "Val set: Average loss: 0.6524, Accuracy: 155/261 (59%), Precision: 0.5837, Recall: 0.9379, F1: 0.7196\n",
            "Train Epoch: 8 [0/3836 (2%)]\tLoss: 0.625018\n",
            "Train Epoch: 8 [640/3836 (18%)]\tLoss: 0.655955\n",
            "Train Epoch: 8 [1280/3836 (35%)]\tLoss: 0.679640\n",
            "Train Epoch: 8 [1920/3836 (52%)]\tLoss: 0.649549\n",
            "Train Epoch: 8 [2560/3836 (68%)]\tLoss: 0.638304\n",
            "Train Epoch: 8 [3200/3836 (85%)]\tLoss: 0.626440\n",
            "Train set: Average loss: 0.6590, Accuracy: 2306/3836 (60%)\n",
            "Val set: Average loss: 0.6861, Accuracy: 155/261 (59%), Precision: 0.5852, Recall: 0.9241, F1: 0.7166\n",
            "Train Epoch: 9 [0/3836 (2%)]\tLoss: 0.627647\n",
            "Train Epoch: 9 [640/3836 (18%)]\tLoss: 0.651828\n",
            "Train Epoch: 9 [1280/3836 (35%)]\tLoss: 0.641941\n",
            "Train Epoch: 9 [1920/3836 (52%)]\tLoss: 0.597181\n",
            "Train Epoch: 9 [2560/3836 (68%)]\tLoss: 0.711581\n",
            "Train Epoch: 9 [3200/3836 (85%)]\tLoss: 0.694837\n",
            "Train set: Average loss: 0.6654, Accuracy: 2300/3836 (60%)\n",
            "Val set: Average loss: 0.7218, Accuracy: 159/261 (61%), Precision: 0.5973, Recall: 0.9103, F1: 0.7213\n",
            "Train Epoch: 10 [0/3836 (2%)]\tLoss: 0.610687\n",
            "Train Epoch: 10 [640/3836 (18%)]\tLoss: 0.699335\n",
            "Train Epoch: 10 [1280/3836 (35%)]\tLoss: 0.594927\n",
            "Train Epoch: 10 [1920/3836 (52%)]\tLoss: 0.640306\n",
            "Train Epoch: 10 [2560/3836 (68%)]\tLoss: 0.645268\n",
            "Train Epoch: 10 [3200/3836 (85%)]\tLoss: 0.621988\n",
            "Train set: Average loss: 0.6491, Accuracy: 2405/3836 (63%)\n",
            "Val set: Average loss: 0.6841, Accuracy: 160/261 (61%), Precision: 0.6009, Recall: 0.9034, F1: 0.7218\n",
            "Train Epoch: 11 [0/3836 (2%)]\tLoss: 0.631390\n",
            "Train Epoch: 11 [640/3836 (18%)]\tLoss: 0.619358\n",
            "Train Epoch: 11 [1280/3836 (35%)]\tLoss: 0.664856\n",
            "Train Epoch: 11 [1920/3836 (52%)]\tLoss: 0.649776\n",
            "Train Epoch: 11 [2560/3836 (68%)]\tLoss: 0.677815\n",
            "Train Epoch: 11 [3200/3836 (85%)]\tLoss: 0.640241\n",
            "Train set: Average loss: 0.6507, Accuracy: 2360/3836 (62%)\n",
            "Val set: Average loss: 0.6815, Accuracy: 159/261 (61%), Precision: 0.5964, Recall: 0.9172, F1: 0.7228\n",
            "Train Epoch: 12 [0/3836 (2%)]\tLoss: 0.654295\n",
            "Train Epoch: 12 [640/3836 (18%)]\tLoss: 0.567906\n",
            "Train Epoch: 12 [1280/3836 (35%)]\tLoss: 0.657096\n",
            "Train Epoch: 12 [1920/3836 (52%)]\tLoss: 0.696130\n",
            "Train Epoch: 12 [2560/3836 (68%)]\tLoss: 0.681926\n",
            "Train Epoch: 12 [3200/3836 (85%)]\tLoss: 0.644941\n",
            "Train set: Average loss: 0.6564, Accuracy: 2354/3836 (61%)\n",
            "Val set: Average loss: 0.6890, Accuracy: 162/261 (62%), Precision: 0.6009, Recall: 0.9448, F1: 0.7346\n",
            "Train Epoch: 13 [0/3836 (2%)]\tLoss: 0.591500\n",
            "Train Epoch: 13 [640/3836 (18%)]\tLoss: 0.647469\n",
            "Train Epoch: 13 [1280/3836 (35%)]\tLoss: 0.693900\n",
            "Train Epoch: 13 [1920/3836 (52%)]\tLoss: 0.692710\n",
            "Train Epoch: 13 [2560/3836 (68%)]\tLoss: 0.677907\n",
            "Train Epoch: 13 [3200/3836 (85%)]\tLoss: 0.607860\n",
            "Train set: Average loss: 0.6338, Accuracy: 2423/3836 (63%)\n",
            "Val set: Average loss: 0.7028, Accuracy: 156/261 (60%), Precision: 0.5855, Recall: 0.9448, F1: 0.7230\n",
            "Train Epoch: 14 [0/3836 (2%)]\tLoss: 0.581798\n",
            "Train Epoch: 14 [640/3836 (18%)]\tLoss: 0.559956\n",
            "Train Epoch: 14 [1280/3836 (35%)]\tLoss: 0.650362\n",
            "Train Epoch: 14 [1920/3836 (52%)]\tLoss: 0.613092\n",
            "Train Epoch: 14 [2560/3836 (68%)]\tLoss: 0.635921\n",
            "Train Epoch: 14 [3200/3836 (85%)]\tLoss: 0.640670\n",
            "Train set: Average loss: 0.6285, Accuracy: 2434/3836 (63%)\n",
            "Val set: Average loss: 0.6605, Accuracy: 161/261 (62%), Precision: 0.6027, Recall: 0.9103, F1: 0.7253\n",
            "Train Epoch: 15 [0/3836 (2%)]\tLoss: 0.677267\n",
            "Train Epoch: 15 [640/3836 (18%)]\tLoss: 0.612154\n",
            "Train Epoch: 15 [1280/3836 (35%)]\tLoss: 0.594229\n",
            "Train Epoch: 15 [1920/3836 (52%)]\tLoss: 0.725204\n",
            "Train Epoch: 15 [2560/3836 (68%)]\tLoss: 0.608106\n",
            "Train Epoch: 15 [3200/3836 (85%)]\tLoss: 0.558498\n",
            "Train set: Average loss: 0.6328, Accuracy: 2425/3836 (63%)\n",
            "Val set: Average loss: 0.6801, Accuracy: 156/261 (60%), Precision: 0.5855, Recall: 0.9448, F1: 0.7230\n",
            "Train Epoch: 16 [0/3836 (2%)]\tLoss: 0.572198\n",
            "Train Epoch: 16 [640/3836 (18%)]\tLoss: 0.593534\n",
            "Train Epoch: 16 [1280/3836 (35%)]\tLoss: 0.592345\n",
            "Train Epoch: 16 [1920/3836 (52%)]\tLoss: 0.620340\n",
            "Train Epoch: 16 [2560/3836 (68%)]\tLoss: 0.624955\n",
            "Train Epoch: 16 [3200/3836 (85%)]\tLoss: 0.568944\n",
            "Train set: Average loss: 0.6513, Accuracy: 2396/3836 (62%)\n",
            "Val set: Average loss: 0.7303, Accuracy: 161/261 (62%), Precision: 0.5966, Recall: 0.9586, F1: 0.7354\n",
            "Train Epoch: 17 [0/3836 (2%)]\tLoss: 0.662579\n",
            "Train Epoch: 17 [640/3836 (18%)]\tLoss: 0.555729\n",
            "Train Epoch: 17 [1280/3836 (35%)]\tLoss: 0.604745\n",
            "Train Epoch: 17 [1920/3836 (52%)]\tLoss: 0.698529\n",
            "Train Epoch: 17 [2560/3836 (68%)]\tLoss: 0.546444\n",
            "Train Epoch: 17 [3200/3836 (85%)]\tLoss: 0.526930\n",
            "Train set: Average loss: 0.6371, Accuracy: 2488/3836 (65%)\n",
            "Val set: Average loss: 0.7210, Accuracy: 163/261 (62%), Precision: 0.6083, Recall: 0.9103, F1: 0.7293\n",
            "Train Epoch: 18 [0/3836 (2%)]\tLoss: 0.707247\n",
            "Train Epoch: 18 [640/3836 (18%)]\tLoss: 0.585600\n",
            "Train Epoch: 18 [1280/3836 (35%)]\tLoss: 0.579315\n",
            "Train Epoch: 18 [1920/3836 (52%)]\tLoss: 0.655528\n",
            "Train Epoch: 18 [2560/3836 (68%)]\tLoss: 0.681105\n",
            "Train Epoch: 18 [3200/3836 (85%)]\tLoss: 0.526565\n",
            "Train set: Average loss: 0.6411, Accuracy: 2452/3836 (64%)\n",
            "Val set: Average loss: 0.7168, Accuracy: 167/261 (64%), Precision: 0.6114, Recall: 0.9655, F1: 0.7487\n",
            "Train Epoch: 19 [0/3836 (2%)]\tLoss: 0.560413\n",
            "Train Epoch: 19 [640/3836 (18%)]\tLoss: 0.604592\n",
            "Train Epoch: 19 [1280/3836 (35%)]\tLoss: 0.601297\n",
            "Train Epoch: 19 [1920/3836 (52%)]\tLoss: 0.591780\n",
            "Train Epoch: 19 [2560/3836 (68%)]\tLoss: 0.582525\n",
            "Train Epoch: 19 [3200/3836 (85%)]\tLoss: 0.418774\n",
            "Train set: Average loss: 0.6419, Accuracy: 2415/3836 (63%)\n",
            "Val set: Average loss: 0.6644, Accuracy: 165/261 (63%), Precision: 0.6043, Recall: 0.9793, F1: 0.7474\n",
            "Train Epoch: 20 [0/3836 (2%)]\tLoss: 0.475283\n",
            "Train Epoch: 20 [640/3836 (18%)]\tLoss: 0.538787\n",
            "Train Epoch: 20 [1280/3836 (35%)]\tLoss: 0.515857\n",
            "Train Epoch: 20 [1920/3836 (52%)]\tLoss: 0.704183\n",
            "Train Epoch: 20 [2560/3836 (68%)]\tLoss: 0.583917\n",
            "Train Epoch: 20 [3200/3836 (85%)]\tLoss: 0.583531\n",
            "Train set: Average loss: 0.6774, Accuracy: 2474/3836 (64%)\n",
            "Val set: Average loss: 0.7595, Accuracy: 161/261 (62%), Precision: 0.5991, Recall: 0.9379, F1: 0.7312\n",
            "Train Epoch: 21 [0/3836 (2%)]\tLoss: 0.570866\n",
            "Train Epoch: 21 [640/3836 (18%)]\tLoss: 0.536926\n",
            "Train Epoch: 21 [1280/3836 (35%)]\tLoss: 0.647041\n",
            "Train Epoch: 21 [1920/3836 (52%)]\tLoss: 0.661049\n",
            "Train Epoch: 21 [2560/3836 (68%)]\tLoss: 0.654626\n",
            "Train Epoch: 21 [3200/3836 (85%)]\tLoss: 0.577673\n",
            "Train set: Average loss: 0.6673, Accuracy: 2426/3836 (63%)\n",
            "Val set: Average loss: 0.6552, Accuracy: 167/261 (64%), Precision: 0.6104, Recall: 0.9724, F1: 0.7500\n",
            "Train Epoch: 22 [0/3836 (2%)]\tLoss: 0.567275\n",
            "Train Epoch: 22 [640/3836 (18%)]\tLoss: 0.502556\n",
            "Train Epoch: 22 [1280/3836 (35%)]\tLoss: 0.473627\n",
            "Train Epoch: 22 [1920/3836 (52%)]\tLoss: 0.509609\n",
            "Train Epoch: 22 [2560/3836 (68%)]\tLoss: 0.416458\n",
            "Train Epoch: 22 [3200/3836 (85%)]\tLoss: 0.542127\n"
          ],
          "name": "stdout"
        }
      ]
    },
    {
      "cell_type": "code",
      "metadata": {
        "id": "bm3nV4eIRsW4",
        "colab_type": "code",
        "colab": {}
      },
      "source": [
        "output_folder = '/content/drive/My Drive/kaggle/output'\n",
        "output_file = os.path.join(output_folder, '0410_resnet_v2.txt')\n",
        "\n",
        "with open(output_file, 'a') as f:\n",
        "    f.write('train_loss\\n')\n",
        "    for item in finetune.train_loss: \n",
        "        f.write('%s\\n' % item)\n",
        "    f.write('train_accuracy\\n')\n",
        "    for item in finetune.train_accuracy:\n",
        "        f.write('%s\\n' % item)\n",
        "    f.write('val_loss\\n')\n",
        "    for item in finetune.val_loss:\n",
        "        f.write('%s\\n' % item)\n",
        "    f.write('val_accuracy\\n')\n",
        "    for item in finetune.val_accuracy:\n",
        "        f.write('%s\\n' % item)"
      ],
      "execution_count": 0,
      "outputs": []
    },
    {
      "cell_type": "code",
      "metadata": {
        "id": "_lX8SQJVYCI-",
        "colab_type": "code",
        "outputId": "ee1eefc3-6e82-491f-995a-5cea1bc92e13",
        "colab": {
          "base_uri": "https://localhost:8080/",
          "height": 268
        }
      },
      "source": [
        "finetune.plot_accuracy()"
      ],
      "execution_count": 0,
      "outputs": [
        {
          "output_type": "display_data",
          "data": {
            "image/png": "[encoded data removed]",
            "text/plain": [
              "<Figure size 432x288 with 1 Axes>"
            ]
          },
          "metadata": {
            "tags": []
          }
        }
      ]
    },
    {
      "cell_type": "code",
      "metadata": {
        "id": "tWsefG-dYB_9",
        "colab_type": "code",
        "outputId": "9e7969dd-5cb3-46e7-d1aa-f90f9fc7a83d",
        "colab": {
          "base_uri": "https://localhost:8080/",
          "height": 265
        }
      },
      "source": [
        "finetune.plot_loss()"
      ],
      "execution_count": 0,
      "outputs": [
        {
          "output_type": "display_data",
          "data": {
            "image/png": "[encoded data removed]",
            "text/plain": [
              "<Figure size 432x288 with 1 Axes>"
            ]
          },
          "metadata": {
            "tags": []
          }
        }
      ]
    },
    {
      "cell_type": "markdown",
      "metadata": {
        "id": "2D3VcZAF9qrC",
        "colab_type": "text"
      },
      "source": [
        "## Inception V3 Model\n",
        "** Note: image size is 299 x 299"
      ]
    },
    {
      "cell_type": "code",
      "metadata": {
        "id": "e71qP-_j9py9",
        "colab_type": "code",
        "colab": {}
      },
      "source": [
        "inception = models.inception_v3(pretrained=True) "
      ],
      "execution_count": 0,
      "outputs": []
    },
    {
      "cell_type": "markdown",
      "metadata": {
        "id": "wAO6GTxXft2F",
        "colab_type": "text"
      },
      "source": [
        "### Fintune last Conv + Classifier"
      ]
    },
    {
      "cell_type": "code",
      "metadata": {
        "id": "SVur6Ei_N-Xf",
        "colab_type": "code",
        "outputId": "217d778f-9644-431c-d9d8-1915a1385c4c",
        "colab": {
          "base_uri": "https://localhost:8080/",
          "height": 35
        }
      },
      "source": [
        "inception.AuxLogits.fc = nn.Linear(768, 1)\n",
        "inception.fc = nn.Linear(2048, 1)\n",
        "freeze_until(inception, \"Mixed_7c.branch_pool.conv.weight\")"
      ],
      "execution_count": 0,
      "outputs": [
        {
          "output_type": "stream",
          "text": [
            "Layer to fine-tune: ['Mixed_7c.branch_pool.conv.weight', 'Mixed_7c.branch_pool.bn.weight', 'Mixed_7c.branch_pool.bn.bias', 'fc.weight', 'fc.bias']\n"
          ],
          "name": "stdout"
        }
      ]
    },
    {
      "cell_type": "code",
      "metadata": {
        "id": "taLKlepTM2UE",
        "colab_type": "code",
        "outputId": "2c5876d5-6630-414e-e8fc-170aab768b3c",
        "colab": {
          "base_uri": "https://localhost:8080/",
          "height": 1000
        }
      },
      "source": [
        "#del model\n",
        "model = MyEnsemble(inception, n_frames=n_frames) \n",
        "model.cuda()\n",
        "\n",
        "optimizer = optim.SGD(model.parameters(), lr=0.001, momentum=0.9)\n",
        "finetune = FineTune(model, 'vgg16', epoch=25, optimizer=optimizer, filename='0415_inception.txt', log_interval=10)\n",
        "finetune.train()"
      ],
      "execution_count": 0,
      "outputs": [
        {
          "output_type": "stream",
          "text": [
            "Train Epoch: 0 [0/3836 (2%)]\tLoss: 0.748602\n",
            "Train Epoch: 0 [640/3836 (18%)]\tLoss: 0.701394\n",
            "Train Epoch: 0 [1280/3836 (35%)]\tLoss: 0.684436\n",
            "Train Epoch: 0 [1920/3836 (52%)]\tLoss: 0.673303\n",
            "Train Epoch: 0 [2560/3836 (68%)]\tLoss: 0.669448\n",
            "Train Epoch: 0 [3200/3836 (85%)]\tLoss: 0.676076\n",
            "Train set: Average loss: 0.6805, Accuracy: 2100/3836 (55%)\n",
            "Val set: Average loss: 0.6871, Accuracy: 146/261 (56%), Precision: 0.5591, Recall: 0.9793, F1: 0.7118\n",
            "Train Epoch: 1 [0/3836 (2%)]\tLoss: 0.689981\n",
            "Train Epoch: 1 [640/3836 (18%)]\tLoss: 0.704397\n",
            "Train Epoch: 1 [1280/3836 (35%)]\tLoss: 0.666080\n",
            "Train Epoch: 1 [1920/3836 (52%)]\tLoss: 0.665212\n",
            "Train Epoch: 1 [2560/3836 (68%)]\tLoss: 0.684772\n",
            "Train Epoch: 1 [3200/3836 (85%)]\tLoss: 0.670720\n",
            "Train set: Average loss: 0.6673, Accuracy: 2365/3836 (62%)\n",
            "Val set: Average loss: 0.6867, Accuracy: 143/261 (55%), Precision: 0.5746, Recall: 0.7172, F1: 0.6380\n",
            "Train Epoch: 2 [0/3836 (2%)]\tLoss: 0.685871\n",
            "Train Epoch: 2 [640/3836 (18%)]\tLoss: 0.675898\n",
            "Train Epoch: 2 [1280/3836 (35%)]\tLoss: 0.640677\n",
            "Train Epoch: 2 [1920/3836 (52%)]\tLoss: 0.644863\n",
            "Train Epoch: 2 [2560/3836 (68%)]\tLoss: 0.640467\n",
            "Train Epoch: 2 [3200/3836 (85%)]\tLoss: 0.644581\n",
            "Train set: Average loss: 0.6438, Accuracy: 2511/3836 (65%)\n",
            "Val set: Average loss: 0.6833, Accuracy: 149/261 (57%), Precision: 0.5902, Recall: 0.7448, F1: 0.6585\n",
            "Train Epoch: 3 [0/3836 (2%)]\tLoss: 0.669141\n",
            "Train Epoch: 3 [640/3836 (18%)]\tLoss: 0.637957\n",
            "Train Epoch: 3 [1280/3836 (35%)]\tLoss: 0.661882\n",
            "Train Epoch: 3 [1920/3836 (52%)]\tLoss: 0.651212\n",
            "Train Epoch: 3 [2560/3836 (68%)]\tLoss: 0.588623\n",
            "Train Epoch: 3 [3200/3836 (85%)]\tLoss: 0.612047\n",
            "Train set: Average loss: 0.6113, Accuracy: 2769/3836 (72%)\n",
            "Val set: Average loss: 0.6864, Accuracy: 145/261 (56%), Precision: 0.6465, Recall: 0.4414, F1: 0.5246\n",
            "Train Epoch: 4 [0/3836 (2%)]\tLoss: 0.631139\n",
            "Train Epoch: 4 [640/3836 (18%)]\tLoss: 0.642077\n",
            "Train Epoch: 4 [1280/3836 (35%)]\tLoss: 0.585340\n",
            "Train Epoch: 4 [1920/3836 (52%)]\tLoss: 0.572906\n",
            "Train Epoch: 4 [2560/3836 (68%)]\tLoss: 0.615088\n",
            "Train Epoch: 4 [3200/3836 (85%)]\tLoss: 0.551175\n",
            "Train set: Average loss: 0.5716, Accuracy: 2850/3836 (74%)\n",
            "Val set: Average loss: 0.6878, Accuracy: 139/261 (53%), Precision: 0.6420, Recall: 0.3586, F1: 0.4602\n",
            "Train Epoch: 5 [0/3836 (2%)]\tLoss: 0.674804\n",
            "Train Epoch: 5 [640/3836 (18%)]\tLoss: 0.553187\n",
            "Train Epoch: 5 [1280/3836 (35%)]\tLoss: 0.554667\n",
            "Train Epoch: 5 [1920/3836 (52%)]\tLoss: 0.520487\n",
            "Train Epoch: 5 [2560/3836 (68%)]\tLoss: 0.580445\n",
            "Train Epoch: 5 [3200/3836 (85%)]\tLoss: 0.530754\n",
            "Train set: Average loss: 0.5317, Accuracy: 2910/3836 (76%)\n",
            "Val set: Average loss: 0.7186, Accuracy: 134/261 (51%), Precision: 0.6324, Recall: 0.2966, F1: 0.4038\n",
            "Train Epoch: 6 [0/3836 (2%)]\tLoss: 0.521528\n",
            "Train Epoch: 6 [640/3836 (18%)]\tLoss: 0.569759\n",
            "Train Epoch: 6 [1280/3836 (35%)]\tLoss: 0.450938\n",
            "Train Epoch: 6 [1920/3836 (52%)]\tLoss: 0.566438\n",
            "Train Epoch: 6 [2560/3836 (68%)]\tLoss: 0.570534\n",
            "Train Epoch: 6 [3200/3836 (85%)]\tLoss: 0.595230\n",
            "Train set: Average loss: 0.4905, Accuracy: 3014/3836 (79%)\n",
            "Val set: Average loss: 0.7272, Accuracy: 138/261 (53%), Precision: 0.6196, Recall: 0.3931, F1: 0.4810\n",
            "Train Epoch: 7 [0/3836 (2%)]\tLoss: 0.441543\n",
            "Train Epoch: 7 [640/3836 (18%)]\tLoss: 0.520445\n",
            "Train Epoch: 7 [1280/3836 (35%)]\tLoss: 0.556755\n",
            "Train Epoch: 7 [1920/3836 (52%)]\tLoss: 0.486081\n",
            "Train Epoch: 7 [2560/3836 (68%)]\tLoss: 0.484895\n",
            "Train Epoch: 7 [3200/3836 (85%)]\tLoss: 0.453201\n",
            "Train set: Average loss: 0.4551, Accuracy: 3058/3836 (80%)\n",
            "Val set: Average loss: 0.8085, Accuracy: 131/261 (50%), Precision: 0.6000, Recall: 0.3103, F1: 0.4091\n",
            "Train Epoch: 8 [0/3836 (2%)]\tLoss: 0.469653\n",
            "Train Epoch: 8 [640/3836 (18%)]\tLoss: 0.442314\n",
            "Train Epoch: 8 [1280/3836 (35%)]\tLoss: 0.382037\n",
            "Train Epoch: 8 [1920/3836 (52%)]\tLoss: 0.449557\n",
            "Train Epoch: 8 [2560/3836 (68%)]\tLoss: 0.456210\n",
            "Train Epoch: 8 [3200/3836 (85%)]\tLoss: 0.472233\n",
            "Train set: Average loss: 0.4215, Accuracy: 3145/3836 (82%)\n",
            "Val set: Average loss: 0.8635, Accuracy: 146/261 (56%), Precision: 0.6875, Recall: 0.3793, F1: 0.4889\n",
            "Train Epoch: 9 [0/3836 (2%)]\tLoss: 0.534615\n",
            "Train Epoch: 9 [640/3836 (18%)]\tLoss: 0.451226\n",
            "Train Epoch: 9 [1280/3836 (35%)]\tLoss: 0.418423\n",
            "Train Epoch: 9 [1920/3836 (52%)]\tLoss: 0.342870\n",
            "Train Epoch: 9 [2560/3836 (68%)]\tLoss: 0.560192\n",
            "Train Epoch: 9 [3200/3836 (85%)]\tLoss: 0.390310\n",
            "Train set: Average loss: 0.3751, Accuracy: 3223/3836 (84%)\n",
            "Val set: Average loss: 0.9043, Accuracy: 146/261 (56%), Precision: 0.6316, Recall: 0.4966, F1: 0.5560\n",
            "Train Epoch: 10 [0/3836 (2%)]\tLoss: 0.382328\n",
            "Train Epoch: 10 [640/3836 (18%)]\tLoss: 0.474209\n",
            "Train Epoch: 10 [1280/3836 (35%)]\tLoss: 0.391567\n",
            "Train Epoch: 10 [1920/3836 (52%)]\tLoss: 0.399537\n",
            "Train Epoch: 10 [2560/3836 (68%)]\tLoss: 0.368345\n",
            "Train Epoch: 10 [3200/3836 (85%)]\tLoss: 0.384450\n",
            "Train set: Average loss: 0.3369, Accuracy: 3302/3836 (86%)\n",
            "Val set: Average loss: 0.9097, Accuracy: 145/261 (56%), Precision: 0.6043, Recall: 0.5793, F1: 0.5915\n",
            "Train Epoch: 11 [0/3836 (2%)]\tLoss: 0.366737\n",
            "Train Epoch: 11 [640/3836 (18%)]\tLoss: 0.336013\n",
            "Train Epoch: 11 [1280/3836 (35%)]\tLoss: 0.302257\n",
            "Train Epoch: 11 [1920/3836 (52%)]\tLoss: 0.329192\n",
            "Train Epoch: 11 [2560/3836 (68%)]\tLoss: 0.346163\n",
            "Train Epoch: 11 [3200/3836 (85%)]\tLoss: 0.412150\n",
            "Train set: Average loss: 0.3532, Accuracy: 3234/3836 (84%)\n",
            "Val set: Average loss: 1.0228, Accuracy: 148/261 (57%), Precision: 0.5920, Recall: 0.7103, F1: 0.6458\n",
            "Train Epoch: 12 [0/3836 (2%)]\tLoss: 0.342253\n",
            "Train Epoch: 12 [640/3836 (18%)]\tLoss: 0.401718\n",
            "Train Epoch: 12 [1280/3836 (35%)]\tLoss: 0.336628\n",
            "Train Epoch: 12 [1920/3836 (52%)]\tLoss: 0.426800\n",
            "Train Epoch: 12 [2560/3836 (68%)]\tLoss: 0.269141\n",
            "Train Epoch: 12 [3200/3836 (85%)]\tLoss: 0.341881\n",
            "Train set: Average loss: 0.2798, Accuracy: 3409/3836 (89%)\n",
            "Val set: Average loss: 1.0277, Accuracy: 141/261 (54%), Precision: 0.5926, Recall: 0.5517, F1: 0.5714\n",
            "Train Epoch: 13 [0/3836 (2%)]\tLoss: 0.230584\n",
            "Train Epoch: 13 [640/3836 (18%)]\tLoss: 0.292346\n",
            "Train Epoch: 13 [1280/3836 (35%)]\tLoss: 0.255938\n",
            "Train Epoch: 13 [1920/3836 (52%)]\tLoss: 0.284103\n",
            "Train Epoch: 13 [2560/3836 (68%)]\tLoss: 0.248087\n",
            "Train Epoch: 13 [3200/3836 (85%)]\tLoss: 0.274742\n",
            "Train set: Average loss: 0.2623, Accuracy: 3422/3836 (89%)\n",
            "Val set: Average loss: 1.0540, Accuracy: 148/261 (57%), Precision: 0.6013, Recall: 0.6552, F1: 0.6271\n",
            "Train Epoch: 14 [0/3836 (2%)]\tLoss: 0.337259\n",
            "Train Epoch: 14 [640/3836 (18%)]\tLoss: 0.213031\n",
            "Train Epoch: 14 [1280/3836 (35%)]\tLoss: 0.340299\n",
            "Train Epoch: 14 [1920/3836 (52%)]\tLoss: 0.268082\n",
            "Train Epoch: 14 [2560/3836 (68%)]\tLoss: 0.359370\n",
            "Train Epoch: 14 [3200/3836 (85%)]\tLoss: 0.447531\n",
            "Train set: Average loss: 0.3130, Accuracy: 3302/3836 (86%)\n",
            "Val set: Average loss: 1.1661, Accuracy: 146/261 (56%), Precision: 0.5798, Recall: 0.7517, F1: 0.6547\n",
            "Train Epoch: 15 [0/3836 (2%)]\tLoss: 0.307796\n",
            "Train Epoch: 15 [640/3836 (18%)]\tLoss: 0.235321\n",
            "Train Epoch: 15 [1280/3836 (35%)]\tLoss: 0.243512\n",
            "Train Epoch: 15 [1920/3836 (52%)]\tLoss: 0.254152\n",
            "Train Epoch: 15 [2560/3836 (68%)]\tLoss: 0.177612\n",
            "Train Epoch: 15 [3200/3836 (85%)]\tLoss: 0.206680\n",
            "Train set: Average loss: 0.2292, Accuracy: 3481/3836 (91%)\n",
            "Val set: Average loss: 1.1180, Accuracy: 143/261 (55%), Precision: 0.5931, Recall: 0.5931, F1: 0.5931\n",
            "Train Epoch: 16 [0/3836 (2%)]\tLoss: 0.262476\n",
            "Train Epoch: 16 [640/3836 (18%)]\tLoss: 0.276150\n",
            "Train Epoch: 16 [1280/3836 (35%)]\tLoss: 0.255571\n",
            "Train Epoch: 16 [1920/3836 (52%)]\tLoss: 0.307980\n",
            "Train Epoch: 16 [2560/3836 (68%)]\tLoss: 0.318684\n",
            "Train Epoch: 16 [3200/3836 (85%)]\tLoss: 0.225513\n",
            "Train set: Average loss: 0.2253, Accuracy: 3482/3836 (91%)\n",
            "Val set: Average loss: 1.0591, Accuracy: 155/261 (59%), Precision: 0.6258, Recall: 0.6690, F1: 0.6467\n",
            "Train Epoch: 17 [0/3836 (2%)]\tLoss: 0.275768\n",
            "Train Epoch: 17 [640/3836 (18%)]\tLoss: 0.281138\n",
            "Train Epoch: 17 [1280/3836 (35%)]\tLoss: 0.256913\n",
            "Train Epoch: 17 [1920/3836 (52%)]\tLoss: 0.225739\n",
            "Train Epoch: 17 [2560/3836 (68%)]\tLoss: 0.295510\n",
            "Train Epoch: 17 [3200/3836 (85%)]\tLoss: 0.206190\n",
            "Train set: Average loss: 0.2001, Accuracy: 3523/3836 (92%)\n",
            "Val set: Average loss: 1.1407, Accuracy: 145/261 (56%), Precision: 0.5901, Recall: 0.6552, F1: 0.6209\n",
            "Train Epoch: 18 [0/3836 (2%)]\tLoss: 0.292865\n",
            "Train Epoch: 18 [640/3836 (18%)]\tLoss: 0.362327\n",
            "Train Epoch: 18 [1280/3836 (35%)]\tLoss: 0.282881\n",
            "Train Epoch: 18 [1920/3836 (52%)]\tLoss: 0.290478\n",
            "Train Epoch: 18 [2560/3836 (68%)]\tLoss: 0.180636\n",
            "Train Epoch: 18 [3200/3836 (85%)]\tLoss: 0.471290\n",
            "Train set: Average loss: 0.1889, Accuracy: 3579/3836 (93%)\n",
            "Val set: Average loss: 1.1494, Accuracy: 144/261 (55%), Precision: 0.5946, Recall: 0.6069, F1: 0.6007\n",
            "Train Epoch: 19 [0/3836 (2%)]\tLoss: 0.290953\n",
            "Train Epoch: 19 [640/3836 (18%)]\tLoss: 0.209506\n",
            "Train Epoch: 19 [1280/3836 (35%)]\tLoss: 0.198336\n",
            "Train Epoch: 19 [1920/3836 (52%)]\tLoss: 0.221955\n",
            "Train Epoch: 19 [2560/3836 (68%)]\tLoss: 0.144121\n",
            "Train Epoch: 19 [3200/3836 (85%)]\tLoss: 0.294704\n",
            "Train set: Average loss: 0.1849, Accuracy: 3553/3836 (93%)\n",
            "Val set: Average loss: 1.1802, Accuracy: 150/261 (57%), Precision: 0.6181, Recall: 0.6138, F1: 0.6159\n",
            "Train Epoch: 20 [0/3836 (2%)]\tLoss: 0.258843\n",
            "Train Epoch: 20 [640/3836 (18%)]\tLoss: 0.265407\n",
            "Train Epoch: 20 [1280/3836 (35%)]\tLoss: 0.378429\n"
          ],
          "name": "stdout"
        }
      ]
    },
    {
      "cell_type": "code",
      "metadata": {
        "id": "zNewpfKFgCuL",
        "colab_type": "code",
        "colab": {}
      },
      "source": [
        "torch.save(model.state_dict(), os.path.join(model_path, '0403_inception.pth'))"
      ],
      "execution_count": 0,
      "outputs": []
    },
    {
      "cell_type": "markdown",
      "metadata": {
        "id": "xX6KEvEUf2ND",
        "colab_type": "text"
      },
      "source": [
        "### Finetune only Classifier"
      ]
    },
    {
      "cell_type": "code",
      "metadata": {
        "id": "JY0F6jf3X6n6",
        "colab_type": "code",
        "outputId": "bcc753e3-120f-4685-e265-49f5af5bf9f2",
        "colab": {
          "base_uri": "https://localhost:8080/",
          "height": 35
        }
      },
      "source": [
        "inception.AuxLogits.fc = nn.Linear(768, 1)\n",
        "inception.fc = nn.Linear(2048, 1)\n",
        "freeze_until(inception, \"fc.weight\")"
      ],
      "execution_count": 0,
      "outputs": [
        {
          "output_type": "stream",
          "text": [
            "Layer to fine-tune: ['fc.weight', 'fc.bias']\n"
          ],
          "name": "stdout"
        }
      ]
    },
    {
      "cell_type": "code",
      "metadata": {
        "id": "GtK-bqzQP4IO",
        "colab_type": "code",
        "outputId": "55414ed4-e705-4c59-957b-6cf537cdc78d",
        "colab": {
          "base_uri": "https://localhost:8080/",
          "height": 1000
        }
      },
      "source": [
        "del model\n",
        "model = MyEnsemble(inception, n_frames=n_frames) \n",
        "model.cuda()\n",
        "optimizer = optim.SGD(model.parameters(), lr=0.0002, momentum=0.9)\n",
        "finetune = FineTune(model, 'vgg16', epoch=30, optimizer=optimizer, filename='0416_inception_baseline_0.0002', log_interval=10)\n",
        "finetune.train()"
      ],
      "execution_count": 0,
      "outputs": [
        {
          "output_type": "stream",
          "text": [
            "Train Epoch: 0 [0/3836 (2%)]\tLoss: 0.697315\n",
            "Train Epoch: 0 [640/3836 (18%)]\tLoss: 0.682059\n",
            "Train Epoch: 0 [1280/3836 (35%)]\tLoss: 0.698844\n",
            "Train Epoch: 0 [1920/3836 (52%)]\tLoss: 0.690791\n",
            "Train Epoch: 0 [2560/3836 (68%)]\tLoss: 0.684314\n",
            "Train Epoch: 0 [3200/3836 (85%)]\tLoss: 0.682427\n",
            "Train set: Average loss: 0.6854, Accuracy: 2071/3836 (54%)\n",
            "Val set: Average loss: 0.6872, Accuracy: 143/261 (55%), Precision: 0.5525, Recall: 0.9793, F1: 0.7065\n",
            "Train Epoch: 1 [0/3836 (2%)]\tLoss: 0.691688\n",
            "Train Epoch: 1 [640/3836 (18%)]\tLoss: 0.689157\n",
            "Train Epoch: 1 [1280/3836 (35%)]\tLoss: 0.688173\n",
            "Train Epoch: 1 [1920/3836 (52%)]\tLoss: 0.683268\n",
            "Train Epoch: 1 [2560/3836 (68%)]\tLoss: 0.710793\n",
            "Train Epoch: 1 [3200/3836 (85%)]\tLoss: 0.686414\n",
            "Train set: Average loss: 0.6812, Accuracy: 2274/3836 (59%)\n",
            "Val set: Average loss: 0.6886, Accuracy: 137/261 (52%), Precision: 0.5512, Recall: 0.7793, F1: 0.6457\n",
            "Train Epoch: 2 [0/3836 (2%)]\tLoss: 0.684686\n",
            "Train Epoch: 2 [640/3836 (18%)]\tLoss: 0.698066\n",
            "Train Epoch: 2 [1280/3836 (35%)]\tLoss: 0.658901\n",
            "Train Epoch: 2 [1920/3836 (52%)]\tLoss: 0.677758\n",
            "Train Epoch: 2 [2560/3836 (68%)]\tLoss: 0.684912\n",
            "Train Epoch: 2 [3200/3836 (85%)]\tLoss: 0.685925\n",
            "Train set: Average loss: 0.6762, Accuracy: 2315/3836 (60%)\n",
            "Val set: Average loss: 0.6866, Accuracy: 138/261 (53%), Precision: 0.5491, Recall: 0.8483, F1: 0.6667\n",
            "Train Epoch: 3 [0/3836 (2%)]\tLoss: 0.659617\n",
            "Train Epoch: 3 [640/3836 (18%)]\tLoss: 0.699346\n",
            "Train Epoch: 3 [1280/3836 (35%)]\tLoss: 0.674442\n",
            "Train Epoch: 3 [1920/3836 (52%)]\tLoss: 0.699047\n",
            "Train Epoch: 3 [2560/3836 (68%)]\tLoss: 0.693949\n",
            "Train Epoch: 3 [3200/3836 (85%)]\tLoss: 0.693626\n",
            "Train set: Average loss: 0.6728, Accuracy: 2433/3836 (63%)\n",
            "Val set: Average loss: 0.6880, Accuracy: 141/261 (54%), Precision: 0.5723, Recall: 0.6828, F1: 0.6226\n",
            "Train Epoch: 4 [0/3836 (2%)]\tLoss: 0.663196\n",
            "Train Epoch: 4 [640/3836 (18%)]\tLoss: 0.695413\n",
            "Train Epoch: 4 [1280/3836 (35%)]\tLoss: 0.716362\n",
            "Train Epoch: 4 [1920/3836 (52%)]\tLoss: 0.683382\n",
            "Train Epoch: 4 [2560/3836 (68%)]\tLoss: 0.685103\n",
            "Train Epoch: 4 [3200/3836 (85%)]\tLoss: 0.658393\n",
            "Train set: Average loss: 0.6672, Accuracy: 2340/3836 (61%)\n",
            "Val set: Average loss: 0.6846, Accuracy: 143/261 (55%), Precision: 0.5605, Recall: 0.8621, F1: 0.6793\n",
            "Train Epoch: 5 [0/3836 (2%)]\tLoss: 0.646701\n",
            "Train Epoch: 5 [640/3836 (18%)]\tLoss: 0.676751\n",
            "Train Epoch: 5 [1280/3836 (35%)]\tLoss: 0.671326\n",
            "Train Epoch: 5 [1920/3836 (52%)]\tLoss: 0.662005\n",
            "Train Epoch: 5 [2560/3836 (68%)]\tLoss: 0.661636\n",
            "Train Epoch: 5 [3200/3836 (85%)]\tLoss: 0.660312\n",
            "Train set: Average loss: 0.6629, Accuracy: 2418/3836 (63%)\n",
            "Val set: Average loss: 0.6844, Accuracy: 141/261 (54%), Precision: 0.5592, Recall: 0.8138, F1: 0.6629\n",
            "Train Epoch: 6 [0/3836 (2%)]\tLoss: 0.695692\n",
            "Train Epoch: 6 [640/3836 (18%)]\tLoss: 0.691653\n",
            "Train Epoch: 6 [1280/3836 (35%)]\tLoss: 0.672693\n",
            "Train Epoch: 6 [1920/3836 (52%)]\tLoss: 0.661236\n",
            "Train Epoch: 6 [2560/3836 (68%)]\tLoss: 0.643254\n",
            "Train Epoch: 6 [3200/3836 (85%)]\tLoss: 0.666617\n",
            "Train set: Average loss: 0.6582, Accuracy: 2443/3836 (64%)\n",
            "Val set: Average loss: 0.6833, Accuracy: 143/261 (55%), Precision: 0.5622, Recall: 0.8414, F1: 0.6740\n",
            "Train Epoch: 7 [0/3836 (2%)]\tLoss: 0.678459\n",
            "Train Epoch: 7 [640/3836 (18%)]\tLoss: 0.656637\n",
            "Train Epoch: 7 [1280/3836 (35%)]\tLoss: 0.661143\n",
            "Train Epoch: 7 [1920/3836 (52%)]\tLoss: 0.669097\n",
            "Train Epoch: 7 [2560/3836 (68%)]\tLoss: 0.651731\n",
            "Train Epoch: 7 [3200/3836 (85%)]\tLoss: 0.654024\n",
            "Train set: Average loss: 0.6531, Accuracy: 2619/3836 (68%)\n",
            "Val set: Average loss: 0.6848, Accuracy: 150/261 (57%), Precision: 0.6164, Recall: 0.6207, F1: 0.6186\n",
            "Train Epoch: 8 [0/3836 (2%)]\tLoss: 0.669433\n",
            "Train Epoch: 8 [640/3836 (18%)]\tLoss: 0.664732\n",
            "Train Epoch: 8 [1280/3836 (35%)]\tLoss: 0.659304\n",
            "Train Epoch: 8 [1920/3836 (52%)]\tLoss: 0.670615\n",
            "Train Epoch: 8 [2560/3836 (68%)]\tLoss: 0.649650\n",
            "Train Epoch: 8 [3200/3836 (85%)]\tLoss: 0.641327\n",
            "Train set: Average loss: 0.6480, Accuracy: 2665/3836 (69%)\n",
            "Val set: Average loss: 0.6853, Accuracy: 146/261 (56%), Precision: 0.6415, Recall: 0.4690, F1: 0.5418\n",
            "Train Epoch: 9 [0/3836 (2%)]\tLoss: 0.659338\n",
            "Train Epoch: 9 [640/3836 (18%)]\tLoss: 0.647346\n",
            "Train Epoch: 9 [1280/3836 (35%)]\tLoss: 0.644798\n",
            "Train Epoch: 9 [1920/3836 (52%)]\tLoss: 0.651305\n",
            "Train Epoch: 9 [2560/3836 (68%)]\tLoss: 0.623728\n",
            "Train Epoch: 9 [3200/3836 (85%)]\tLoss: 0.659536\n",
            "Train set: Average loss: 0.6418, Accuracy: 2640/3836 (69%)\n",
            "Val set: Average loss: 0.6837, Accuracy: 152/261 (58%), Precision: 0.6216, Recall: 0.6345, F1: 0.6280\n",
            "Train Epoch: 10 [0/3836 (2%)]\tLoss: 0.654064\n",
            "Train Epoch: 10 [640/3836 (18%)]\tLoss: 0.649161\n",
            "Train Epoch: 10 [1280/3836 (35%)]\tLoss: 0.620252\n",
            "Train Epoch: 10 [1920/3836 (52%)]\tLoss: 0.666292\n",
            "Train Epoch: 10 [2560/3836 (68%)]\tLoss: 0.671481\n",
            "Train Epoch: 10 [3200/3836 (85%)]\tLoss: 0.654013\n",
            "Train set: Average loss: 0.6362, Accuracy: 2712/3836 (71%)\n",
            "Val set: Average loss: 0.6872, Accuracy: 139/261 (53%), Precision: 0.6264, Recall: 0.3931, F1: 0.4831\n",
            "Train Epoch: 11 [0/3836 (2%)]\tLoss: 0.631393\n",
            "Train Epoch: 11 [640/3836 (18%)]\tLoss: 0.633617\n",
            "Train Epoch: 11 [1280/3836 (35%)]\tLoss: 0.590653\n",
            "Train Epoch: 11 [1920/3836 (52%)]\tLoss: 0.632912\n",
            "Train Epoch: 11 [2560/3836 (68%)]\tLoss: 0.634113\n",
            "Train Epoch: 11 [3200/3836 (85%)]\tLoss: 0.628691\n",
            "Train set: Average loss: 0.6288, Accuracy: 2736/3836 (71%)\n",
            "Val set: Average loss: 0.6837, Accuracy: 145/261 (56%), Precision: 0.6160, Recall: 0.5310, F1: 0.5704\n",
            "Train Epoch: 12 [0/3836 (2%)]\tLoss: 0.611698\n",
            "Train Epoch: 12 [640/3836 (18%)]\tLoss: 0.654489\n",
            "Train Epoch: 12 [1280/3836 (35%)]\tLoss: 0.641986\n",
            "Train Epoch: 12 [1920/3836 (52%)]\tLoss: 0.591323\n",
            "Train Epoch: 12 [2560/3836 (68%)]\tLoss: 0.635029\n",
            "Train Epoch: 12 [3200/3836 (85%)]\tLoss: 0.620824\n",
            "Train set: Average loss: 0.6251, Accuracy: 2721/3836 (71%)\n",
            "Val set: Average loss: 0.6811, Accuracy: 143/261 (55%), Precision: 0.6098, Recall: 0.5172, F1: 0.5597\n",
            "Train Epoch: 13 [0/3836 (2%)]\tLoss: 0.624704\n",
            "Train Epoch: 13 [640/3836 (18%)]\tLoss: 0.609118\n",
            "Train Epoch: 13 [1280/3836 (35%)]\tLoss: 0.653084\n",
            "Train Epoch: 13 [1920/3836 (52%)]\tLoss: 0.664039\n",
            "Train Epoch: 13 [2560/3836 (68%)]\tLoss: 0.629058\n",
            "Train Epoch: 13 [3200/3836 (85%)]\tLoss: 0.602263\n",
            "Train set: Average loss: 0.6186, Accuracy: 2772/3836 (72%)\n",
            "Val set: Average loss: 0.6829, Accuracy: 143/261 (55%), Precision: 0.6311, Recall: 0.4483, F1: 0.5242\n",
            "Train Epoch: 14 [0/3836 (2%)]\tLoss: 0.643174\n",
            "Train Epoch: 14 [640/3836 (18%)]\tLoss: 0.630243\n",
            "Train Epoch: 14 [1280/3836 (35%)]\tLoss: 0.621497\n",
            "Train Epoch: 14 [1920/3836 (52%)]\tLoss: 0.626711\n",
            "Train Epoch: 14 [2560/3836 (68%)]\tLoss: 0.606714\n",
            "Train Epoch: 14 [3200/3836 (85%)]\tLoss: 0.618139\n",
            "Train set: Average loss: 0.6083, Accuracy: 2798/3836 (73%)\n",
            "Val set: Average loss: 0.6820, Accuracy: 142/261 (54%), Precision: 0.6182, Recall: 0.4690, F1: 0.5333\n",
            "Train Epoch: 15 [0/3836 (2%)]\tLoss: 0.618330\n",
            "Train Epoch: 15 [640/3836 (18%)]\tLoss: 0.659567\n",
            "Train Epoch: 15 [1280/3836 (35%)]\tLoss: 0.611353\n",
            "Train Epoch: 15 [1920/3836 (52%)]\tLoss: 0.582465\n",
            "Train Epoch: 15 [2560/3836 (68%)]\tLoss: 0.573436\n",
            "Train Epoch: 15 [3200/3836 (85%)]\tLoss: 0.584682\n",
            "Train set: Average loss: 0.6053, Accuracy: 2827/3836 (74%)\n",
            "Val set: Average loss: 0.6857, Accuracy: 140/261 (54%), Precision: 0.6224, Recall: 0.4207, F1: 0.5021\n",
            "Train Epoch: 16 [0/3836 (2%)]\tLoss: 0.643736\n",
            "Train Epoch: 16 [640/3836 (18%)]\tLoss: 0.581036\n",
            "Train Epoch: 16 [1280/3836 (35%)]\tLoss: 0.635399\n",
            "Train Epoch: 16 [1920/3836 (52%)]\tLoss: 0.625581\n",
            "Train Epoch: 16 [2560/3836 (68%)]\tLoss: 0.621488\n",
            "Train Epoch: 16 [3200/3836 (85%)]\tLoss: 0.579181\n",
            "Train set: Average loss: 0.6062, Accuracy: 2635/3836 (69%)\n",
            "Val set: Average loss: 0.6759, Accuracy: 151/261 (58%), Precision: 0.5871, Recall: 0.8138, F1: 0.6821\n",
            "Train Epoch: 17 [0/3836 (2%)]\tLoss: 0.610150\n",
            "Train Epoch: 17 [640/3836 (18%)]\tLoss: 0.575832\n",
            "Train Epoch: 17 [1280/3836 (35%)]\tLoss: 0.576642\n",
            "Train Epoch: 17 [1920/3836 (52%)]\tLoss: 0.599411\n",
            "Train Epoch: 17 [2560/3836 (68%)]\tLoss: 0.597559\n",
            "Train Epoch: 17 [3200/3836 (85%)]\tLoss: 0.620426\n",
            "Train set: Average loss: 0.5876, Accuracy: 2831/3836 (74%)\n",
            "Val set: Average loss: 0.6859, Accuracy: 143/261 (55%), Precision: 0.6239, Recall: 0.4690, F1: 0.5354\n",
            "Train Epoch: 18 [0/3836 (2%)]\tLoss: 0.603729\n",
            "Train Epoch: 18 [640/3836 (18%)]\tLoss: 0.589397\n",
            "Train Epoch: 18 [1280/3836 (35%)]\tLoss: 0.552098\n",
            "Train Epoch: 18 [1920/3836 (52%)]\tLoss: 0.613643\n",
            "Train Epoch: 18 [2560/3836 (68%)]\tLoss: 0.595338\n",
            "Train Epoch: 18 [3200/3836 (85%)]\tLoss: 0.645554\n",
            "Train set: Average loss: 0.5843, Accuracy: 2807/3836 (73%)\n",
            "Val set: Average loss: 0.6783, Accuracy: 153/261 (59%), Precision: 0.6504, Recall: 0.5517, F1: 0.5970\n",
            "Train Epoch: 19 [0/3836 (2%)]\tLoss: 0.651508\n",
            "Train Epoch: 19 [640/3836 (18%)]\tLoss: 0.624276\n",
            "Train Epoch: 19 [1280/3836 (35%)]\tLoss: 0.599542\n",
            "Train Epoch: 19 [1920/3836 (52%)]\tLoss: 0.599995\n",
            "Train Epoch: 19 [2560/3836 (68%)]\tLoss: 0.582006\n",
            "Train Epoch: 19 [3200/3836 (85%)]\tLoss: 0.590440\n",
            "Train set: Average loss: 0.5740, Accuracy: 2867/3836 (75%)\n",
            "Val set: Average loss: 0.6880, Accuracy: 140/261 (54%), Precision: 0.6154, Recall: 0.4414, F1: 0.5141\n",
            "Train Epoch: 20 [0/3836 (2%)]\tLoss: 0.607386\n",
            "Train Epoch: 20 [640/3836 (18%)]\tLoss: 0.604130\n",
            "Train Epoch: 20 [1280/3836 (35%)]\tLoss: 0.605143\n",
            "Train Epoch: 20 [1920/3836 (52%)]\tLoss: 0.582393\n",
            "Train Epoch: 20 [2560/3836 (68%)]\tLoss: 0.575498\n",
            "Train Epoch: 20 [3200/3836 (85%)]\tLoss: 0.573701\n",
            "Train set: Average loss: 0.5685, Accuracy: 2874/3836 (75%)\n",
            "Val set: Average loss: 0.6840, Accuracy: 147/261 (56%), Precision: 0.6240, Recall: 0.5379, F1: 0.5778\n",
            "Train Epoch: 21 [0/3836 (2%)]\tLoss: 0.557439\n",
            "Train Epoch: 21 [640/3836 (18%)]\tLoss: 0.514739\n",
            "Train Epoch: 21 [1280/3836 (35%)]\tLoss: 0.559917\n",
            "Train Epoch: 21 [1920/3836 (52%)]\tLoss: 0.511464\n",
            "Train Epoch: 21 [2560/3836 (68%)]\tLoss: 0.568634\n",
            "Train Epoch: 21 [3200/3836 (85%)]\tLoss: 0.602881\n",
            "Train set: Average loss: 0.5599, Accuracy: 2941/3836 (77%)\n",
            "Val set: Average loss: 0.6946, Accuracy: 145/261 (56%), Precision: 0.6593, Recall: 0.4138, F1: 0.5085\n",
            "Train Epoch: 22 [0/3836 (2%)]\tLoss: 0.604779\n",
            "Train Epoch: 22 [640/3836 (18%)]\tLoss: 0.538734\n",
            "Train Epoch: 22 [1280/3836 (35%)]\tLoss: 0.602431\n",
            "Train Epoch: 22 [1920/3836 (52%)]\tLoss: 0.563916\n",
            "Train Epoch: 22 [2560/3836 (68%)]\tLoss: 0.578240\n",
            "Train Epoch: 22 [3200/3836 (85%)]\tLoss: 0.552481\n",
            "Train set: Average loss: 0.5520, Accuracy: 2939/3836 (77%)\n",
            "Val set: Average loss: 0.6920, Accuracy: 148/261 (57%), Precision: 0.6455, Recall: 0.4897, F1: 0.5569\n",
            "Train Epoch: 23 [0/3836 (2%)]\tLoss: 0.576211\n",
            "Train Epoch: 23 [640/3836 (18%)]\tLoss: 0.509569\n",
            "Train Epoch: 23 [1280/3836 (35%)]\tLoss: 0.564871\n",
            "Train Epoch: 23 [1920/3836 (52%)]\tLoss: 0.560617\n",
            "Train Epoch: 23 [2560/3836 (68%)]\tLoss: 0.552441\n",
            "Train Epoch: 23 [3200/3836 (85%)]\tLoss: 0.519654\n",
            "Train set: Average loss: 0.5482, Accuracy: 2920/3836 (76%)\n",
            "Val set: Average loss: 0.6872, Accuracy: 152/261 (58%), Precision: 0.6429, Recall: 0.5586, F1: 0.5978\n",
            "Train Epoch: 24 [0/3836 (2%)]\tLoss: 0.494217\n",
            "Train Epoch: 24 [640/3836 (18%)]\tLoss: 0.537959\n",
            "Train Epoch: 24 [1280/3836 (35%)]\tLoss: 0.499200\n",
            "Train Epoch: 24 [1920/3836 (52%)]\tLoss: 0.599473\n",
            "Train Epoch: 24 [2560/3836 (68%)]\tLoss: 0.555275\n",
            "Train Epoch: 24 [3200/3836 (85%)]\tLoss: 0.550669\n",
            "Train set: Average loss: 0.5376, Accuracy: 2951/3836 (77%)\n",
            "Val set: Average loss: 0.6994, Accuracy: 143/261 (55%), Precision: 0.6262, Recall: 0.4621, F1: 0.5317\n",
            "Train Epoch: 25 [0/3836 (2%)]\tLoss: 0.575561\n",
            "Train Epoch: 25 [640/3836 (18%)]\tLoss: 0.556243\n",
            "Train Epoch: 25 [1280/3836 (35%)]\tLoss: 0.496458\n",
            "Train Epoch: 25 [1920/3836 (52%)]\tLoss: 0.558466\n",
            "Train Epoch: 25 [2560/3836 (68%)]\tLoss: 0.545722\n",
            "Train Epoch: 25 [3200/3836 (85%)]\tLoss: 0.527314\n",
            "Train set: Average loss: 0.5365, Accuracy: 2944/3836 (77%)\n",
            "Val set: Average loss: 0.7076, Accuracy: 143/261 (55%), Precision: 0.6484, Recall: 0.4069, F1: 0.5000\n",
            "Train Epoch: 26 [0/3836 (2%)]\tLoss: 0.548709\n",
            "Train Epoch: 26 [640/3836 (18%)]\tLoss: 0.541616\n",
            "Train Epoch: 26 [1280/3836 (35%)]\tLoss: 0.543193\n",
            "Train Epoch: 26 [1920/3836 (52%)]\tLoss: 0.484923\n",
            "Train Epoch: 26 [2560/3836 (68%)]\tLoss: 0.519463\n",
            "Train Epoch: 26 [3200/3836 (85%)]\tLoss: 0.521328\n",
            "Train set: Average loss: 0.5260, Accuracy: 2977/3836 (78%)\n",
            "Val set: Average loss: 0.7084, Accuracy: 140/261 (54%), Precision: 0.6200, Recall: 0.4276, F1: 0.5061\n",
            "Train Epoch: 27 [0/3836 (2%)]\tLoss: 0.504177\n",
            "Train Epoch: 27 [640/3836 (18%)]\tLoss: 0.516556\n",
            "Train Epoch: 27 [1280/3836 (35%)]\tLoss: 0.504531\n",
            "Train Epoch: 27 [1920/3836 (52%)]\tLoss: 0.516603\n",
            "Train Epoch: 27 [2560/3836 (68%)]\tLoss: 0.501171\n",
            "Train Epoch: 27 [3200/3836 (85%)]\tLoss: 0.579065\n",
            "Train set: Average loss: 0.5229, Accuracy: 2955/3836 (77%)\n",
            "Val set: Average loss: 0.7021, Accuracy: 153/261 (59%), Precision: 0.6412, Recall: 0.5793, F1: 0.6087\n",
            "Train Epoch: 28 [0/3836 (2%)]\tLoss: 0.525212\n",
            "Train Epoch: 28 [640/3836 (18%)]\tLoss: 0.551264\n",
            "Train Epoch: 28 [1280/3836 (35%)]\tLoss: 0.499087\n",
            "Train Epoch: 28 [1920/3836 (52%)]\tLoss: 0.531761\n",
            "Train Epoch: 28 [2560/3836 (68%)]\tLoss: 0.536146\n",
            "Train Epoch: 28 [3200/3836 (85%)]\tLoss: 0.553011\n",
            "Train set: Average loss: 0.5192, Accuracy: 2946/3836 (77%)\n",
            "Val set: Average loss: 0.6992, Accuracy: 151/261 (58%), Precision: 0.6061, Recall: 0.6897, F1: 0.6452\n",
            "Train Epoch: 29 [0/3836 (2%)]\tLoss: 0.485098\n",
            "Train Epoch: 29 [640/3836 (18%)]\tLoss: 0.569089\n",
            "Train Epoch: 29 [1280/3836 (35%)]\tLoss: 0.415625\n",
            "Train Epoch: 29 [1920/3836 (52%)]\tLoss: 0.556602\n",
            "Train Epoch: 29 [2560/3836 (68%)]\tLoss: 0.598045\n",
            "Train Epoch: 29 [3200/3836 (85%)]\tLoss: 0.461046\n",
            "Train set: Average loss: 0.5082, Accuracy: 3020/3836 (79%)\n",
            "Val set: Average loss: 0.7199, Accuracy: 138/261 (53%), Precision: 0.6146, Recall: 0.4069, F1: 0.4896\n"
          ],
          "name": "stdout"
        }
      ]
    },
    {
      "cell_type": "code",
      "metadata": {
        "id": "C0Qp-6fu_JGg",
        "colab_type": "code",
        "colab": {}
      },
      "source": [
        "torch.save(model.state_dict(), os.path.join(model_path, '0403_inception_clf.pth'))"
      ],
      "execution_count": 0,
      "outputs": []
    },
    {
      "cell_type": "code",
      "metadata": {
        "id": "0jjGBM4JfccB",
        "colab_type": "code",
        "outputId": "1486b8e5-6821-420e-8e69-fc291fb44840",
        "colab": {
          "base_uri": "https://localhost:8080/",
          "height": 265
        }
      },
      "source": [
        "finetune.plot_loss()"
      ],
      "execution_count": 0,
      "outputs": [
        {
          "output_type": "display_data",
          "data": {
            "image/png": "[encoded data removed]",
            "text/plain": [
              "<Figure size 432x288 with 1 Axes>"
            ]
          },
          "metadata": {
            "tags": [],
            "needs_background": "light"
          }
        }
      ]
    }
  ]
}